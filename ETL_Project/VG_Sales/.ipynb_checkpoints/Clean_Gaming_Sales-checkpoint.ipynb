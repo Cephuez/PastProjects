{
 "cells": [
  {
   "cell_type": "code",
   "execution_count": 25,
   "id": "06a589e0-8b01-4f62-9bc4-de43db9ec2a8",
   "metadata": {},
   "outputs": [
    {
     "name": "stdout",
     "output_type": "stream",
     "text": [
      "The autoreload extension is already loaded. To reload it, use:\n",
      "  %reload_ext autoreload\n"
     ]
    }
   ],
   "source": [
    "# I will import covid file here before cleaning it up.\n",
    "import os\n",
    "%load_ext autoreload\n",
    "%autoreload 2\n",
    "import pandas as pd\n",
    "import pyspark\n",
    "import json\n",
    "import pyarrow\n",
    "from pyspark.sql import SparkSession\n",
    "from pyspark.sql.functions import *\n",
    "from pyspark.sql.types import IntegerType, BooleanType\n",
    "from Clean_DataFrame import Clean_Dataframe\n",
    "\n",
    "os.environ['SPARK_HOME'] = 'C:/Users/saul2/Spark_DF/spark-3.5.5-bin-hadoop3'\n",
    "os.environ['HADOOP_HOME'] = 'C:/Users/saul2/Spark_DF/spark-3.5.5-bin-hadoop3'\n",
    "os.environ['JAVA_HOME'] = 'C:/Program Files/Java/jdk1.8.0_202'"
   ]
  },
  {
   "cell_type": "code",
   "execution_count": 131,
   "id": "cf710300-93e5-4ed4-b688-e934bbc4cde6",
   "metadata": {},
   "outputs": [
    {
     "name": "stdout",
     "output_type": "stream",
     "text": [
      "Initiated\n"
     ]
    }
   ],
   "source": [
    "clean_data = Clean_Dataframe()"
   ]
  },
  {
   "cell_type": "code",
   "execution_count": 133,
   "id": "09695dd5-c1b6-44a4-adc0-33bf819bd5ce",
   "metadata": {},
   "outputs": [],
   "source": [
    "spark = SparkSession.builder.appName(\"Gaming_Session\").getOrCreate()"
   ]
  },
  {
   "cell_type": "code",
   "execution_count": 329,
   "id": "0ff218f4-ef27-42eb-8e29-c8577923b26d",
   "metadata": {},
   "outputs": [],
   "source": [
    "# 1 Import CSV File\n",
    "path = \"C:/Users/saul2/OneDrive/Desktop/PastProjects/ETL_Project/VG_Sales/vgsales.csv\"\n",
    "df = spark.read.option(\"header\", True).csv(path)"
   ]
  },
  {
   "cell_type": "code",
   "execution_count": 331,
   "id": "1c736f04-d15e-43c8-b6fc-ed6dc9209f27",
   "metadata": {},
   "outputs": [
    {
     "name": "stdout",
     "output_type": "stream",
     "text": [
      "root\n",
      " |-- Rank: string (nullable = true)\n",
      " |-- Name: string (nullable = true)\n",
      " |-- Platform: string (nullable = true)\n",
      " |-- Year: string (nullable = true)\n",
      " |-- Genre: string (nullable = true)\n",
      " |-- Publisher: string (nullable = true)\n",
      " |-- NA_Sales: string (nullable = true)\n",
      " |-- EU_Sales: string (nullable = true)\n",
      " |-- JP_Sales: string (nullable = true)\n",
      " |-- Other_Sales: string (nullable = true)\n",
      " |-- Global_Sales: string (nullable = true)\n",
      "\n",
      "+----+--------------------+--------+----+------------+---------+--------+--------+--------+-----------+------------+\n",
      "|Rank|                Name|Platform|Year|       Genre|Publisher|NA_Sales|EU_Sales|JP_Sales|Other_Sales|Global_Sales|\n",
      "+----+--------------------+--------+----+------------+---------+--------+--------+--------+-----------+------------+\n",
      "|  -4|              sAmplE|     wIi| N/A|      SPORTS|         |   41.49|   29.02|        |       8.46|      82.7a4|\n",
      "|  -3|              sAmplE|     wIi|2006|      SPORTS|         |   41.49|   29.02|        |       8.46|       82.74|\n",
      "|  -3|              sAmplE|     wIi|2006|      SPORTS|         |   41.49|   29.a2|        |       8.46|        NULL|\n",
      "|  -2|                NULL|    NULL|NULL|        NULL|     NULL|    NULL|    NULL|    NULL|       NULL|        NULL|\n",
      "|  -1|          Wii Sports|     Wii|2da6|      Sports| Nintendo|   41s49|   29.02|    3.77|         ff|       82.74|\n",
      "|   0|                    |     Wii|NULL|      Sports|     NULL|   41.49|    NULL|    3.77|       NULL|       82.74|\n",
      "|   1|          Wii Sports|     Wii|2006|      Sports| Nintendo|   41.49|   29.02|    3.77|       8.46|       82.74|\n",
      "|   2|   Super Mario Bros.|     NES|1985|    Platform| Nintendo|   29.08|    3.58|    6.81|       0.77|       40.24|\n",
      "|   3|      Mario Kart Wii|     Wii|2008|      Racing| Nintendo|   15.85|   12.88|    3.79|       3.31|       35.82|\n",
      "|   4|   Wii Sports Resort|     Wii|2009|      Sports| Nintendo|   15.75|   11.01|    3.28|       2.96|          33|\n",
      "|   5|Pokemon Red/Pokem...|      GB|1996|Role-Playing| Nintendo|   11.27|    8.89|   10.22|          1|       31.37|\n",
      "|   6|              Tetris|      GB|1989|      Puzzle| Nintendo|    23.2|    2.26|    4.22|       0.58|       30.26|\n",
      "|   7|New Super Mario B...|      DS|2006|    Platform| Nintendo|   11.38|    9.23|     6.5|        2.9|       30.01|\n",
      "|   8|            Wii Play|     Wii|2006|        Misc| Nintendo|   14.03|     9.2|    2.93|       2.85|       29.02|\n",
      "|   9|New Super Mario B...|     Wii|2009|    Platform| Nintendo|   14.59|    7.06|     4.7|       2.26|       28.62|\n",
      "|  10|           Duck Hunt|     NES|1984|     Shooter| Nintendo|   26.93|    0.63|    0.28|       0.47|       28.31|\n",
      "|  11|          Nintendogs|      DS|2005|  Simulation| Nintendo|    9.07|      11|    1.93|       2.75|       24.76|\n",
      "|  12|       Mario Kart DS|      DS|2005|      Racing| Nintendo|    9.81|    7.57|    4.13|       1.92|       23.42|\n",
      "|  13|Pokemon Gold/Poke...|      GB|1999|Role-Playing| Nintendo|       9|    6.18|     7.2|       0.71|        23.1|\n",
      "|  14|             Wii Fit|     Wii|2007|      Sports| Nintendo|    8.94|    8.03|     3.6|       2.15|       22.72|\n",
      "+----+--------------------+--------+----+------------+---------+--------+--------+--------+-----------+------------+\n",
      "only showing top 20 rows\n",
      "\n"
     ]
    }
   ],
   "source": [
    "# Check Values and Rows for reference\n",
    "df.printSchema()\n",
    "df.show()"
   ]
  },
  {
   "cell_type": "code",
   "execution_count": 333,
   "id": "398fd8db-68bc-42a9-8063-087543a577c5",
   "metadata": {},
   "outputs": [
    {
     "name": "stdout",
     "output_type": "stream",
     "text": [
      "+----+-------+--------+----+------+---------+--------+--------+--------+-----------+------------+\n",
      "|Rank|   Name|Platform|Year| Genre|Publisher|NA_Sales|EU_Sales|JP_Sales|Other_Sales|Global_Sales|\n",
      "+----+-------+--------+----+------+---------+--------+--------+--------+-----------+------------+\n",
      "|  -4| sAmplE|     wIi| N/A|SPORTS|         |   41.49|   29.02|        |       8.46|      82.7a4|\n",
      "|  -3| sAmplE|     wIi|2006|SPORTS|         |   41.49|   29.02|        |       8.46|       82.74|\n",
      "|  -3| sAmplE|     wIi|2006|SPORTS|         |   41.49|   29.a2|        |       8.46|        NULL|\n",
      "|  -2|   NULL|    NULL|NULL|  NULL|     NULL|    NULL|    NULL|    NULL|       NULL|        NULL|\n",
      "|   0|       |     Wii|NULL|Sports|     NULL|   41.49|    NULL|    3.77|       NULL|       82.74|\n",
      "+----+-------+--------+----+------+---------+--------+--------+--------+-----------+------------+\n",
      "\n"
     ]
    }
   ],
   "source": [
    "# 1 Check for missing and blank values, or Null values \n",
    "clean_data.check_missing_blank_values(df)"
   ]
  },
  {
   "cell_type": "code",
   "execution_count": 335,
   "id": "649a8042-b702-4491-a90d-7d0f6386867c",
   "metadata": {},
   "outputs": [],
   "source": [
    "# 2 Check for inconsistent Capitalization\n",
    "# I want to input the columns I'll be checking for capitlizations\n",
    "# The assumption is if the values are not dealing with special cases like roman numerals, DS, TOHO(Publisher Name), etc\n",
    "string_col_dict = [\"Name\", \"Platform\", \"Genre\", \"Publisher\"]\n",
    "#clean_data.check_capitalization(df, string_col_dict)\n",
    "#clean_data.check_individual_capitalization(df, \"Name\")\n",
    "#clean_data.check_individual_capitalization(df, \"Platform\")\n",
    "#clean_data.check_individual_capitalization(df, \"Genre\")\n",
    "#clean_data.check_more_individual_capitalization(df, \"Publisher\", 100)"
   ]
  },
  {
   "cell_type": "code",
   "execution_count": 337,
   "id": "8b185e5d-e6ef-4c11-a50c-9bd5640a4be1",
   "metadata": {},
   "outputs": [
    {
     "name": "stdout",
     "output_type": "stream",
     "text": [
      "+----+----+--------+----+-----+---------+--------+--------+--------+-----------+------------+-----+\n",
      "|Rank|Name|Platform|Year|Genre|Publisher|NA_Sales|EU_Sales|JP_Sales|Other_Sales|Global_Sales|count|\n",
      "+----+----+--------+----+-----+---------+--------+--------+--------+-----------+------------+-----+\n",
      "+----+----+--------+----+-----+---------+--------+--------+--------+-----------+------------+-----+\n",
      "\n"
     ]
    }
   ],
   "source": [
    "# 3 Check for duplicate rows\n",
    "clean_data.check_duplicate_rows(df)"
   ]
  },
  {
   "cell_type": "code",
   "execution_count": 357,
   "id": "1b48c28c-5c72-4531-bce0-531641f75712",
   "metadata": {},
   "outputs": [
    {
     "name": "stdout",
     "output_type": "stream",
     "text": [
      "+----+----+\n",
      "|Rank|Rank|\n",
      "+----+----+\n",
      "+----+----+\n",
      "\n",
      "+----+----+\n",
      "|Rank|Year|\n",
      "+----+----+\n",
      "|-1  |2da6|\n",
      "+----+----+\n",
      "\n",
      "+----+--------+\n",
      "|Rank|NA_Sales|\n",
      "+----+--------+\n",
      "|-1  |41s49   |\n",
      "+----+--------+\n",
      "\n",
      "+----+--------+\n",
      "|Rank|EU_Sales|\n",
      "+----+--------+\n",
      "|-3  |29.a2   |\n",
      "+----+--------+\n",
      "\n",
      "+----+--------+\n",
      "|Rank|JP_Sales|\n",
      "+----+--------+\n",
      "|-3  |        |\n",
      "|-3  |        |\n",
      "|-4  |        |\n",
      "+----+--------+\n",
      "\n",
      "+----+-----------+\n",
      "|Rank|Other_Sales|\n",
      "+----+-----------+\n",
      "|-1  |ff         |\n",
      "+----+-----------+\n",
      "\n",
      "+----+------------+\n",
      "|Rank|Global_Sales|\n",
      "+----+------------+\n",
      "|-3  |NULL        |\n",
      "|-4  |82.7a4      |\n",
      "+----+------------+\n",
      "\n"
     ]
    }
   ],
   "source": [
    "# 4 Check if inputted values are valid\n",
    "# Will check if the values change when converted to their desire type\n",
    "# Change columns to int\n",
    "int_dic = [\"Rank\", \"Year\"]\n",
    "double_dic = [\"NA_Sales\", \"EU_Sales\", \"JP_Sales\", \"Other_Sales\", \"Global_Sales\"]\n",
    "clean_frame.checkTypeChange(df ,int_dic, \"int\")\n",
    "print(\"------------------\")\n",
    "clean_frame.checkTypeChange(df, double_dic, \"double\")\n",
    "#df = clean_frame.changeColType(df ,int_dic, \"int\")\n",
    "\n",
    "# Change columns to double\n",
    "# df = clean_frame.changeColType(df, double_dic, \"double\")\n",
    "\n",
    "# Results\n",
    "# Table has now appropriate column types\n",
    "#df.printSchema()\n",
    "# df.show()"
   ]
  },
  {
   "cell_type": "code",
   "execution_count": 321,
   "id": "fa1a96b4-4ff3-491a-b727-b7dab35cef33",
   "metadata": {},
   "outputs": [],
   "source": [
    "# 4 Continuations...\n",
    "# \n",
    "#df.show()"
   ]
  },
  {
   "cell_type": "code",
   "execution_count": 261,
   "id": "2e8bd40a-d13e-4f11-b818-c78272806456",
   "metadata": {},
   "outputs": [
    {
     "data": {
      "text/plain": [
       "1"
      ]
     },
     "execution_count": 261,
     "metadata": {},
     "output_type": "execute_result"
    }
   ],
   "source": [
    "# I've casted the values into their appropriate values\n",
    "# Now I need to check if there are any nulls inside those values\n",
    "# df.filter(col(\"NA_Sales\").isNull()).count()\n",
    "# df.filter(col(\"EU_Sales\").isNull()).count()\n",
    "# df.filter(col(\"JP_Sales\").isNull()).count()\n",
    "# df.filter(col(\"Other_Sales\").isNull()).count()\n",
    "# df.filter(col(\"Global_Sales\").isNull()).count()\n",
    "# Result\n",
    "# There are some cases that some values will be converted to null\n",
    "# It's good to check if there are any that turned out like that"
   ]
  },
  {
   "cell_type": "code",
   "execution_count": 231,
   "id": "73cb1fc9-611e-4b9e-a608-cae3a4355240",
   "metadata": {},
   "outputs": [
    {
     "name": "stdout",
     "output_type": "stream",
     "text": [
      "+----+--------------------+--------+----+------------+--------------------+--------+--------+--------+-----------+------------+\n",
      "|Rank|                Name|Platform|Year|       Genre|           Publisher|NA_Sales|EU_Sales|JP_Sales|Other_Sales|Global_Sales|\n",
      "+----+--------------------+--------+----+------------+--------------------+--------+--------+--------+-----------+------------+\n",
      "|   1|          Wii Sports|     Wii|2006|      Sports|            Nintendo|   41.49|   29.02|    3.77|       8.46|       82.74|\n",
      "|   2|   Super Mario Bros.|     NES|1985|    Platform|            Nintendo|   29.08|    3.58|    6.81|       0.77|       40.24|\n",
      "|   3|      Mario Kart Wii|     Wii|2008|      Racing|            Nintendo|   15.85|   12.88|    3.79|       3.31|       35.82|\n",
      "|   4|   Wii Sports Resort|     Wii|2009|      Sports|            Nintendo|   15.75|   11.01|    3.28|       2.96|        33.0|\n",
      "|   5|Pokemon Red/Pokem...|      GB|1996|Role-Playing|            Nintendo|   11.27|    8.89|   10.22|        1.0|       31.37|\n",
      "|   6|              Tetris|      GB|1989|      Puzzle|            Nintendo|    23.2|    2.26|    4.22|       0.58|       30.26|\n",
      "|   7|New Super Mario B...|      DS|2006|    Platform|            Nintendo|   11.38|    9.23|     6.5|        2.9|       30.01|\n",
      "|   8|            Wii Play|     Wii|2006|        Misc|            Nintendo|   14.03|     9.2|    2.93|       2.85|       29.02|\n",
      "|   9|New Super Mario B...|     Wii|2009|    Platform|            Nintendo|   14.59|    7.06|     4.7|       2.26|       28.62|\n",
      "|  10|           Duck Hunt|     NES|1984|     Shooter|            Nintendo|   26.93|    0.63|    0.28|       0.47|       28.31|\n",
      "|  11|          Nintendogs|      DS|2005|  Simulation|            Nintendo|    9.07|    11.0|    1.93|       2.75|       24.76|\n",
      "|  12|       Mario Kart DS|      DS|2005|      Racing|            Nintendo|    9.81|    7.57|    4.13|       1.92|       23.42|\n",
      "|  13|Pokemon Gold/Poke...|      GB|1999|Role-Playing|            Nintendo|     9.0|    6.18|     7.2|       0.71|        23.1|\n",
      "|  14|             Wii Fit|     Wii|2007|      Sports|            Nintendo|    8.94|    8.03|     3.6|       2.15|       22.72|\n",
      "|  15|        Wii Fit Plus|     Wii|2009|      Sports|            Nintendo|    9.09|    8.59|    2.53|       1.79|        22.0|\n",
      "|  16|  Kinect Adventures!|    X360|2010|        Misc|Microsoft Game St...|   14.97|    4.94|    0.24|       1.67|       21.82|\n",
      "|  17|  Grand Theft Auto V|     PS3|2013|      Action|Take-Two Interactive|    7.01|    9.27|    0.97|       4.14|        21.4|\n",
      "|  18|Grand Theft Auto:...|     PS2|2004|      Action|Take-Two Interactive|    9.43|     0.4|    0.41|      10.57|       20.81|\n",
      "|  19|   Super Mario World|    SNES|1990|    Platform|            Nintendo|   12.78|    3.75|    3.54|       0.55|       20.61|\n",
      "|  20|Brain Age: Train ...|      DS|2005|        Misc|            Nintendo|    4.75|    9.26|    4.16|       2.05|       20.22|\n",
      "+----+--------------------+--------+----+------------+--------------------+--------+--------+--------+-----------+------------+\n",
      "only showing top 20 rows\n",
      "\n"
     ]
    }
   ],
   "source": [
    "# Begin Checking Rows \n",
    "df.show()"
   ]
  },
  {
   "cell_type": "code",
   "execution_count": 93,
   "id": "a72e3529-a130-4d59-a308-7bb8b15f2578",
   "metadata": {},
   "outputs": [
    {
     "name": "stdout",
     "output_type": "stream",
     "text": [
      "+----+----+--------+----+-----+---------+--------+--------+--------+-----------+------------+-----+\n",
      "|Rank|Name|Platform|Year|Genre|Publisher|NA_Sales|EU_Sales|JP_Sales|Other_Sales|Global_Sales|count|\n",
      "+----+----+--------+----+-----+---------+--------+--------+--------+-----------+------------+-----+\n",
      "+----+----+--------+----+-----+---------+--------+--------+--------+-----------+------------+-----+\n",
      "\n"
     ]
    }
   ],
   "source": [
    "# Check for any repeated rows\n",
    "duplicate_rows = df.groupBy(df.columns).count().filter(\"count > 1\")\n",
    "# duplicate_rows.show()\n",
    "# Result\n",
    "# There doesn't seem to be any duplicate rows"
   ]
  },
  {
   "cell_type": "code",
   "execution_count": null,
   "id": "3438c545-8156-48fd-b47b-38d97cd4ec50",
   "metadata": {},
   "outputs": [],
   "source": [
    "# Check for some invalid values"
   ]
  },
  {
   "cell_type": "code",
   "execution_count": 263,
   "id": "09662778-f084-46cd-8b21-88df5478a6a8",
   "metadata": {},
   "outputs": [],
   "source": [
    "df.createOrReplaceTempView(\"VG_Sales\")"
   ]
  },
  {
   "cell_type": "code",
   "execution_count": 269,
   "id": "feb0c567-9c20-49f2-acfb-6be4fbc42f68",
   "metadata": {},
   "outputs": [
    {
     "name": "stdout",
     "output_type": "stream",
     "text": [
      "+----+--------------------+--------+----+------------+--------------------+--------+--------+--------+-----------+------------+\n",
      "|Rank|                Name|Platform|Year|       Genre|           Publisher|NA_Sales|EU_Sales|JP_Sales|Other_Sales|Global_Sales|\n",
      "+----+--------------------+--------+----+------------+--------------------+--------+--------+--------+-----------+------------+\n",
      "|   1|          Wii Sports|     Wii|2006|      Sports|            Nintendo|   41.49|   29.02|    3.77|       8.46|       82.74|\n",
      "|   2|   Super Mario Bros.|     NES|1985|    Platform|            Nintendo|   29.08|    3.58|    6.81|       0.77|       40.24|\n",
      "|   3|      Mario Kart Wii|     Wii|2008|      Racing|            Nintendo|   15.85|   12.88|    3.79|       3.31|       35.82|\n",
      "|   4|   Wii Sports Resort|     Wii|2009|      Sports|            Nintendo|   15.75|   11.01|    3.28|       2.96|        33.0|\n",
      "|   5|Pokemon Red/Pokem...|      GB|1996|Role-Playing|            Nintendo|   11.27|    8.89|   10.22|        1.0|       31.37|\n",
      "|   6|              Tetris|      GB|1989|      Puzzle|            Nintendo|    23.2|    2.26|    4.22|       0.58|       30.26|\n",
      "|   7|New Super Mario B...|      DS|2006|    Platform|            Nintendo|   11.38|    9.23|     6.5|        2.9|       30.01|\n",
      "|   8|            Wii Play|     Wii|2006|        Misc|            Nintendo|   14.03|     9.2|    2.93|       2.85|       29.02|\n",
      "|   9|New Super Mario B...|     Wii|2009|    Platform|            Nintendo|   14.59|    7.06|     4.7|       2.26|       28.62|\n",
      "|  10|           Duck Hunt|     NES|1984|     Shooter|            Nintendo|   26.93|    0.63|    0.28|       0.47|       28.31|\n",
      "|  11|          Nintendogs|      DS|2005|  Simulation|            Nintendo|    9.07|    11.0|    1.93|       2.75|       24.76|\n",
      "|  12|       Mario Kart DS|      DS|2005|      Racing|            Nintendo|    9.81|    7.57|    4.13|       1.92|       23.42|\n",
      "|  13|Pokemon Gold/Poke...|      GB|1999|Role-Playing|            Nintendo|     9.0|    6.18|     7.2|       0.71|        23.1|\n",
      "|  14|             Wii Fit|     Wii|2007|      Sports|            Nintendo|    8.94|    8.03|     3.6|       2.15|       22.72|\n",
      "|  15|        Wii Fit Plus|     Wii|2009|      Sports|            Nintendo|    9.09|    8.59|    2.53|       1.79|        22.0|\n",
      "|  16|  Kinect Adventures!|    X360|2010|        Misc|Microsoft Game St...|   14.97|    4.94|    0.24|       1.67|       21.82|\n",
      "|  17|  Grand Theft Auto V|     PS3|2013|      Action|Take-Two Interactive|    7.01|    9.27|    0.97|       4.14|        21.4|\n",
      "|  18|Grand Theft Auto:...|     PS2|2004|      Action|Take-Two Interactive|    9.43|     0.4|    0.41|      10.57|       20.81|\n",
      "|  19|   Super Mario World|    SNES|1990|    Platform|            Nintendo|   12.78|    3.75|    3.54|       0.55|       20.61|\n",
      "|  20|Brain Age: Train ...|      DS|2005|        Misc|            Nintendo|    4.75|    9.26|    4.16|       2.05|       20.22|\n",
      "+----+--------------------+--------+----+------------+--------------------+--------+--------+--------+-----------+------------+\n",
      "only showing top 20 rows\n",
      "\n"
     ]
    }
   ],
   "source": [
    "query = '''\n",
    "        SELECT *\n",
    "        FROM VG_SALES\n",
    "    '''\n",
    "result = spark.sql(query)\n",
    "result.show()"
   ]
  },
  {
   "cell_type": "code",
   "execution_count": null,
   "id": "8e90fdb4-457f-440b-b9d4-4b260efa8fc0",
   "metadata": {},
   "outputs": [],
   "source": []
  }
 ],
 "metadata": {
  "kernelspec": {
   "display_name": "Python 3.13 (with Kaggle)",
   "language": "python",
   "name": "py313"
  },
  "language_info": {
   "codemirror_mode": {
    "name": "ipython",
    "version": 3
   },
   "file_extension": ".py",
   "mimetype": "text/x-python",
   "name": "python",
   "nbconvert_exporter": "python",
   "pygments_lexer": "ipython3",
   "version": "3.13.1"
  }
 },
 "nbformat": 4,
 "nbformat_minor": 5
}

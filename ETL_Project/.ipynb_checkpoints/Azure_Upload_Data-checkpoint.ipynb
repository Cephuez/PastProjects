{
 "cells": [
  {
   "cell_type": "code",
   "execution_count": 13,
   "id": "a4a8e2bd-d044-4c19-8326-016b6dbfe13c",
   "metadata": {},
   "outputs": [],
   "source": [
    "import os\n",
    "from azure.storage.blob import BlobServiceClient, BlobClient, ContainerClient"
   ]
  },
  {
   "cell_type": "code",
   "execution_count": 81,
   "id": "6dd446d4-1414-452c-af97-fd8e5383afca",
   "metadata": {},
   "outputs": [],
   "source": [
    "# Find string somewhere else\n",
    "connection_string = \"\"\n",
    "container_name = \"sspbucket\"\n",
    "#blob_name = \"your_file.csv\"\n",
    "local_file_path = \"C:/Users/saul2/OneDrive/Desktop/PastProjects/ETL_Project/VG_Sales/results/YEARLY_GENRE_TREND.csv\""
   ]
  },
  {
   "cell_type": "code",
   "execution_count": 83,
   "id": "e138dd4e-7e9e-494d-94a7-149953794f2e",
   "metadata": {},
   "outputs": [],
   "source": [
    "# Connect to blob service client\n",
    "blob_service_client = BlobServiceClient.from_connection_string(connection_string)"
   ]
  },
  {
   "cell_type": "code",
   "execution_count": 85,
   "id": "1377b67b-beac-40a1-9316-5a843294f503",
   "metadata": {},
   "outputs": [
    {
     "name": "stdout",
     "output_type": "stream",
     "text": [
      "Container already made or other error\n"
     ]
    }
   ],
   "source": [
    "# Create container if it doesn't exits\n",
    "try:\n",
    "    container_client = blob_service_client.create_container(container_name)\n",
    "    print(\"Container Created\")\n",
    "except Exception:\n",
    "    container_client = blob_service_client.get_container_client(container_name)\n",
    "    print(\"Container already made or other error\")"
   ]
  },
  {
   "cell_type": "code",
   "execution_count": 87,
   "id": "10b27d63-a1d0-4d04-b101-cf529fd5e35a",
   "metadata": {},
   "outputs": [],
   "source": [
    "blob_name = \"YEARLY_GENRE_TREND.csv\"\n",
    "blob_client = blob_service_client.get_blob_client(container=container_name, blob=blob_name)"
   ]
  },
  {
   "cell_type": "code",
   "execution_count": 89,
   "id": "1ec43323-cb0e-47f1-950e-1bb3f4a93bd4",
   "metadata": {},
   "outputs": [],
   "source": [
    "with open(local_file_path, \"rb\") as data:\n",
    "    blob_client.upload_blob(data, overwrite=True)"
   ]
  },
  {
   "cell_type": "code",
   "execution_count": 47,
   "id": "90d679fc-d021-41a2-9d16-ee654c4a3b42",
   "metadata": {},
   "outputs": [],
   "source": [
    "directory = 'C:/Users/saul2/OneDrive/Desktop/PastProjects/ETL_Project/VG_Sales/results'"
   ]
  },
  {
   "cell_type": "code",
   "execution_count": 49,
   "id": "4590076c-10f6-4cf9-a4d1-f19fc09c7709",
   "metadata": {},
   "outputs": [
    {
     "name": "stdout",
     "output_type": "stream",
     "text": [
      "File: C:/Users/saul2/OneDrive/Desktop/PastProjects/ETL_Project/VG_Sales/results\\EU_TOP_5_PERCENT_NOT_5_PERCENT_GLOBAL.csv uploaded\n",
      "File: C:/Users/saul2/OneDrive/Desktop/PastProjects/ETL_Project/VG_Sales/results\\EU_TOP_5_PERCENT_NOT_5_PERCENT_GLOBAL.json uploaded\n",
      "File: C:/Users/saul2/OneDrive/Desktop/PastProjects/ETL_Project/VG_Sales/results\\EU_TOP_5_PERCENT_NOT_5_PERCENT_GLOBAL.parquet uploaded\n",
      "File: C:/Users/saul2/OneDrive/Desktop/PastProjects/ETL_Project/VG_Sales/results\\GLOBAL_SALE_RANK.csv uploaded\n",
      "File: C:/Users/saul2/OneDrive/Desktop/PastProjects/ETL_Project/VG_Sales/results\\GLOBAL_SALE_RANK.json uploaded\n",
      "File: C:/Users/saul2/OneDrive/Desktop/PastProjects/ETL_Project/VG_Sales/results\\GLOBAL_SALE_RANK.parquet uploaded\n",
      "File: C:/Users/saul2/OneDrive/Desktop/PastProjects/ETL_Project/VG_Sales/results\\PLATFORM_TOP_100_GLOBAL_SALES.csv uploaded\n",
      "File: C:/Users/saul2/OneDrive/Desktop/PastProjects/ETL_Project/VG_Sales/results\\PLATFORM_TOP_100_GLOBAL_SALES.json uploaded\n",
      "File: C:/Users/saul2/OneDrive/Desktop/PastProjects/ETL_Project/VG_Sales/results\\PLATFORM_TOP_100_GLOBAL_SALES.parquet uploaded\n",
      "File: C:/Users/saul2/OneDrive/Desktop/PastProjects/ETL_Project/VG_Sales/results\\PUBLISHER_3_YEAR_GLOBAL_SALE_STREAK.csv uploaded\n",
      "File: C:/Users/saul2/OneDrive/Desktop/PastProjects/ETL_Project/VG_Sales/results\\PUBLISHER_3_YEAR_GLOBAL_SALE_STREAK.json uploaded\n",
      "File: C:/Users/saul2/OneDrive/Desktop/PastProjects/ETL_Project/VG_Sales/results\\PUBLISHER_3_YEAR_GLOBAL_SALE_STREAK.parquet uploaded\n",
      "File: C:/Users/saul2/OneDrive/Desktop/PastProjects/ETL_Project/VG_Sales/results\\REGION_PERCENTAGE_SALES.csv uploaded\n",
      "File: C:/Users/saul2/OneDrive/Desktop/PastProjects/ETL_Project/VG_Sales/results\\REGION_PERCENTAGE_SALES.json uploaded\n",
      "File: C:/Users/saul2/OneDrive/Desktop/PastProjects/ETL_Project/VG_Sales/results\\REGION_PERCENTAGE_SALES.parquet uploaded\n",
      "File: C:/Users/saul2/OneDrive/Desktop/PastProjects/ETL_Project/VG_Sales/results\\TOP_GLOBAL_GAME_PER_PLATFORM.csv uploaded\n",
      "File: C:/Users/saul2/OneDrive/Desktop/PastProjects/ETL_Project/VG_Sales/results\\TOP_GLOBAL_GAME_PER_PLATFORM.json uploaded\n",
      "File: C:/Users/saul2/OneDrive/Desktop/PastProjects/ETL_Project/VG_Sales/results\\TOP_GLOBAL_GAME_PER_PLATFORM.parquet uploaded\n",
      "File: C:/Users/saul2/OneDrive/Desktop/PastProjects/ETL_Project/VG_Sales/results\\YEARLY_GENRE_TREND.csv uploaded\n",
      "File: C:/Users/saul2/OneDrive/Desktop/PastProjects/ETL_Project/VG_Sales/results\\YEARLY_GENRE_TREND.json uploaded\n",
      "File: C:/Users/saul2/OneDrive/Desktop/PastProjects/ETL_Project/VG_Sales/results\\YEARLY_GENRE_TREND.parquet uploaded\n",
      "File: C:/Users/saul2/OneDrive/Desktop/PastProjects/ETL_Project/VG_Sales/results\\YEARLY_REGION_TOP_GENRE.csv uploaded\n",
      "File: C:/Users/saul2/OneDrive/Desktop/PastProjects/ETL_Project/VG_Sales/results\\YEARLY_REGION_TOP_GENRE.json uploaded\n",
      "File: C:/Users/saul2/OneDrive/Desktop/PastProjects/ETL_Project/VG_Sales/results\\YEARLY_REGION_TOP_GENRE.parquet uploaded\n"
     ]
    }
   ],
   "source": [
    "# Upload the file \n",
    "for blob_name in os.listdir(directory):\n",
    "    local_file_path = os.path.join(directory,blob_name)\n",
    "    blob_client = blob_service_client.get_blob_client(container=container_name, blob=blob_name)\n",
    "\n",
    "    try:\n",
    "        # Upload  file to S3\n",
    "        with open(local_file_path, \"rb\") as data:\n",
    "            blob_client.upload_blob(data, overwrite=True)\n",
    "        print(\"File: \"+ local_file_path+ \" uploaded\")\n",
    "        #print(\"xd\")\n",
    "    except Exception as e:\n",
    "        print(\"Error: \" + local_file_path)"
   ]
  },
  {
   "cell_type": "code",
   "execution_count": null,
   "id": "dd8ee3e8-3330-4825-887d-9386b84a0432",
   "metadata": {},
   "outputs": [],
   "source": []
  }
 ],
 "metadata": {
  "kernelspec": {
   "display_name": "Python 3.13 (with Kaggle)",
   "language": "python",
   "name": "py313"
  },
  "language_info": {
   "codemirror_mode": {
    "name": "ipython",
    "version": 3
   },
   "file_extension": ".py",
   "mimetype": "text/x-python",
   "name": "python",
   "nbconvert_exporter": "python",
   "pygments_lexer": "ipython3",
   "version": "3.13.1"
  }
 },
 "nbformat": 4,
 "nbformat_minor": 5
}

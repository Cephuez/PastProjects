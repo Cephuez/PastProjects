{
 "cells": [
  {
   "cell_type": "code",
   "execution_count": 139,
   "id": "260a2fbe-d590-4775-97ec-26b45c8111b6",
   "metadata": {},
   "outputs": [
    {
     "name": "stdout",
     "output_type": "stream",
     "text": [
      "The autoreload extension is already loaded. To reload it, use:\n",
      "  %reload_ext autoreload\n"
     ]
    }
   ],
   "source": [
    "import os\n",
    "%load_ext autoreload\n",
    "%autoreload 2\n",
    "import pandas as pd\n",
    "import pyspark\n",
    "import json\n",
    "import pyarrow\n",
    "from pyspark.sql import SparkSession\n",
    "from pyspark.sql.utils import AnalysisException\n",
    "from pyspark.sql import Row\n",
    "from py4j.protocol import Py4JJavaError\n",
    "from datetime import datetime, timedelta\n",
    "\n",
    "from pyspark.sql.functions import *\n",
    "from pyspark.sql.types import IntegerType, BooleanType\n",
    "\n",
    "os.environ['SPARK_HOME'] = 'C:/Users/saul2/Spark_DF/spark-3.5.5-bin-hadoop3'\n",
    "os.environ['HADOOP_HOME'] = 'C:/Users/saul2/Spark_DF/spark-3.5.5-bin-hadoop3'\n",
    "os.environ['JAVA_HOME'] = 'C:/Program Files/Java/jdk1.8.0_202'"
   ]
  },
  {
   "cell_type": "code",
   "execution_count": 5,
   "id": "d9d4a230-2edb-4d1c-8de9-c70430d1c92d",
   "metadata": {},
   "outputs": [],
   "source": [
    "spark = SparkSession.builder.appName(\"Weather_Session\").getOrCreate()"
   ]
  },
  {
   "cell_type": "code",
   "execution_count": 224,
   "id": "bf734d32-71e7-4469-ad89-78647b569cd9",
   "metadata": {},
   "outputs": [],
   "source": [
    "path = \"C:/Users/saul2/OneDrive/Desktop/PastProjects/ETL_Project/Final_ETL_Test/50_City_20250517_180038.json\"\n",
    "try:\n",
    "    df = spark.read.json(path)\n",
    "except AnalysisException  as e:\n",
    "    # Path does not exists\n",
    "    print(e)"
   ]
  },
  {
   "cell_type": "code",
   "execution_count": 275,
   "id": "5c8caf73-bdc7-4ad4-bd73-fe844d8e2508",
   "metadata": {},
   "outputs": [
    {
     "name": "stdout",
     "output_type": "stream",
     "text": [
      "2025_05_18_15_07_01\n"
     ]
    }
   ],
   "source": [
    "#df.printSchema()\n",
    "output_dir = \"clean_data\"\n",
    "if not os.path.exists(output_dir):\n",
    "    os.makedirs(output_dir)"
   ]
  },
  {
   "cell_type": "code",
   "execution_count": 189,
   "id": "fcba2fc0-abe3-46da-a317-85747aa0119f",
   "metadata": {},
   "outputs": [],
   "source": [
    "row = df.first()"
   ]
  },
  {
   "cell_type": "code",
   "execution_count": 191,
   "id": "e061af15-8c57-45ba-ad51-5d01b3c566d9",
   "metadata": {},
   "outputs": [
    {
     "name": "stdout",
     "output_type": "stream",
     "text": [
      "Temperature: Row(feels_like=24.86, grnd_level=998, humidity=57, pressure=999, sea_level=999, temp=24.83, temp_max=26.08, temp_min=24.41)\n"
     ]
    }
   ],
   "source": [
    "print(\"Temperature:\", row[\"main\"])"
   ]
  },
  {
   "cell_type": "code",
   "execution_count": 193,
   "id": "ffd74905-3ad5-498a-a210-a8e61cc192aa",
   "metadata": {
    "scrolled": true
   },
   "outputs": [
    {
     "name": "stdout",
     "output_type": "stream",
     "text": [
      "\n",
      "base: stations\n",
      "\n",
      "clouds:\n",
      "  all: 47\n",
      "\n",
      "cod: 200\n",
      "\n",
      "coord:\n",
      "  lat: 40.7143\n",
      "  lon: -74.006\n",
      "\n",
      "dt: 1747529148\n",
      "\n",
      "id: 5128581\n",
      "\n",
      "main:\n",
      "  feels_like: 24.86\n",
      "  grnd_level: 998\n",
      "  humidity: 57\n",
      "  pressure: 999\n",
      "  sea_level: 999\n",
      "  temp: 24.83\n",
      "  temp_max: 26.08\n",
      "  temp_min: 24.41\n",
      "\n",
      "name: New York\n",
      "\n",
      "rain: None\n",
      "\n",
      "sys:\n",
      "  country: US\n",
      "  id: 2080163\n",
      "  sunrise: 1747474621\n",
      "  sunset: 1747526884\n",
      "  type: 2\n",
      "\n",
      "timezone: -14400\n",
      "\n",
      "visibility: 10000\n",
      "\n",
      "weather:\n",
      "  Item 0:\n",
      "    description: scattered clouds\n",
      "    icon: 03n\n",
      "    id: 802\n",
      "    main: Clouds\n",
      "\n",
      "wind:\n",
      "  deg: 274\n",
      "  gust: 11.22\n",
      "  speed: 6.01\n"
     ]
    }
   ],
   "source": [
    "for column, value in row.asDict().items():\n",
    "    if isinstance(value, Row):\n",
    "        print(f\"\\n{column}:\")\n",
    "        for subfield, subvalue in value.asDict().items():\n",
    "            print(f\"  {subfield}: {subvalue}\")\n",
    "    elif isinstance(value, list):\n",
    "        print(f\"\\n{column}:\")\n",
    "        for i, item in enumerate(value):\n",
    "            if isinstance(item, Row):\n",
    "                print(f\"  Item {i}:\")\n",
    "                for subfield, subvalue in item.asDict().items():\n",
    "                    print(f\"    {subfield}: {subvalue}\")\n",
    "            else:\n",
    "                print(f\"  {item}\")\n",
    "    else:\n",
    "        print(f\"\\n{column}: {value}\")"
   ]
  },
  {
   "cell_type": "code",
   "execution_count": 245,
   "id": "ddf8c78d-0acc-4d72-ad6a-6d417e8cee89",
   "metadata": {},
   "outputs": [
    {
     "name": "stdout",
     "output_type": "stream",
     "text": [
      "+-------+------------+-------+--------+---------+\n",
      "|     ID|        City|Country|Latitude|Longitude|\n",
      "+-------+------------+-------+--------+---------+\n",
      "|  98182|     Baghdad|     IQ| 33.3406|  44.4009|\n",
      "| 108410|      Riyadh|     SA| 24.6877|  46.7219|\n",
      "| 112931|      Tehran|     IR| 35.6944|  51.4215|\n",
      "| 184745|     Nairobi|     KE| -1.2833|  36.8167|\n",
      "| 264371|      Athens|     GR| 37.9795|  23.7162|\n",
      "| 292223|       Dubai|     AE| 25.2582|  55.3047|\n",
      "| 293397|    Tel Aviv|     IL| 32.0809|  34.7806|\n",
      "| 360630|       Cairo|     EG| 30.0626|  31.2497|\n",
      "| 524901|      Moscow|     RU| 55.7522|  37.6156|\n",
      "| 658225|    Helsinki|     FI| 60.1695|  24.9355|\n",
      "| 745044|    Istanbul|     TR| 41.0138|  28.9497|\n",
      "| 756135|      Warsaw|     PL| 52.2298|  21.0118|\n",
      "|1275339|      Mumbai|     IN| 19.0144|  72.8479|\n",
      "|1581130|       Hanoi|     VN| 21.0245| 105.8412|\n",
      "|1609350|     Bangkok|     TH|   13.75| 100.5167|\n",
      "|1642911|     Jakarta|     ID| -6.2146| 106.8451|\n",
      "|1668341|      Taipei|     TW| 25.0478| 121.5319|\n",
      "|1701668|      Manila|     PH| 14.6042| 120.9822|\n",
      "|1735161|Kuala Lumpur|     MY|  3.1412| 101.6865|\n",
      "|1816670|     Beijing|     CN| 39.9075| 116.3972|\n",
      "+-------+------------+-------+--------+---------+\n",
      "only showing top 20 rows\n",
      "\n"
     ]
    }
   ],
   "source": [
    "# Create Tables\n",
    "# Create location DF\n",
    "location_df = df.select(\n",
    "    df[\"id\"].alias(\"ID\"),\n",
    "    df[\"name\"].alias(\"City\"),\n",
    "    df[\"sys.country\"].alias(\"Country\"),\n",
    "    df[\"coord.lat\"].alias(\"Latitude\"),\n",
    "    df[\"coord.lon\"].alias(\"Longitude\")\n",
    ").orderBy(\"ID\")\n",
    "#location_df.show()\n",
    "\n",
    "pandas_df = location_df.toPandas()\n",
    "path = os.path.join(output_dir, 'Location_Table.parquet')\n",
    "pandas_df.to_parquet(path, engine='pyarrow') \n",
    "path = os.path.join(output_dir, 'Location_Table.csv')\n",
    "pandas_df.to_csv(path, index=False)"
   ]
  },
  {
   "cell_type": "code",
   "execution_count": 249,
   "id": "6d5cd6cf-1ead-427a-9baf-79cd4a5e8634",
   "metadata": {},
   "outputs": [],
   "source": [
    "# Create Temperature & Pressure Table\n",
    "temperature_df = df.select(\n",
    "    df[\"id\"].alias(\"City_ID\"),\n",
    "    df[\"main.temp\"].alias(\"Temp\"),\n",
    "    df[\"main.temp_max\"].alias(\"Temp_Max\"),\n",
    "    df[\"main.temp_min\"].alias(\"Temp_Min\"),\n",
    "    df[\"main.feels_like\"].alias(\"Feels_Like\"),\n",
    "    df[\"main.humidity\"].alias(\"Humidity\"),\n",
    "    df[\"main.pressure\"].alias(\"Pressure\"),\n",
    "    df[\"main.sea_level\"].alias(\"Sea_Level\")\n",
    ").orderBy(\"City_ID\")\n",
    "#temperature_df.show()\n",
    "\n",
    "pandas_df = temperature_df.toPandas()\n",
    "path = os.path.join(output_dir, 'Temperature_Table.parquet')\n",
    "pandas_df.to_parquet(path, engine='pyarrow') \n",
    "path = os.path.join(output_dir, 'Temperature_Table.csv')\n",
    "pandas_df.to_csv(path, index=False)"
   ]
  },
  {
   "cell_type": "code",
   "execution_count": 251,
   "id": "4aad4a12-8956-43cb-867f-c574d2463769",
   "metadata": {},
   "outputs": [],
   "source": [
    "# Create Wind & Clouds Table\n",
    "wind_df = df.select(\n",
    "    df[\"id\"].alias(\"City_ID\"),\n",
    "    df[\"clouds.all\"].alias(\"Cloudiness_Percentage\"),\n",
    "    df[\"wind.deg\"].alias(\"Wind_Direction_Degree\"),\n",
    "    df[\"wind.gust\"].alias(\"Gust_Speed\"),\n",
    "    df[\"wind.speed\"].alias(\"Wind_Speed\")\n",
    ").orderBy(\"City_ID\")\n",
    "#wind_df.show()\n",
    "pandas_df = wind_df.toPandas()\n",
    "path = os.path.join(output_dir, 'Cloud_Wind_Table.parquet')\n",
    "pandas_df.to_parquet(path, engine='pyarrow') \n",
    "path = os.path.join(output_dir, 'Cloud_Wind_Table.csv')\n",
    "pandas_df.to_csv(path, index=False)"
   ]
  },
  {
   "cell_type": "code",
   "execution_count": 253,
   "id": "f6b6f830-3a48-4942-94a6-bbe4c0edc3c8",
   "metadata": {},
   "outputs": [],
   "source": [
    "# Create Weather Description\n",
    "weather_desc_df = df.select(\n",
    "    df[\"id\"].alias(\"City_ID\"),\n",
    "    df[\"weather\"][0][\"main\"].alias(\"Main_Weather\"),\n",
    "    df[\"weather\"][0][\"description\"].alias(\"Description\"),\n",
    "    df[\"weather\"][0][\"icon\"].alias(\"Icon\")\n",
    ").orderBy(\"City_ID\")\n",
    "#weather_desc_df.show()\n",
    "\n",
    "pandas_df = weather_desc_df.toPandas()\n",
    "path = os.path.join(output_dir, 'Weather_Description_Table.parquet')\n",
    "pandas_df.to_parquet(path, engine='pyarrow') \n",
    "path = os.path.join(output_dir, 'Weather_Description_Table.csv')\n",
    "pandas_df.to_csv(path, index=False)"
   ]
  },
  {
   "cell_type": "code",
   "execution_count": 263,
   "id": "f7e169da-2be2-4057-b61f-951bd82d27c3",
   "metadata": {},
   "outputs": [
    {
     "name": "stdout",
     "output_type": "stream",
     "text": [
      "+-------+----------+----------+--------+\n",
      "|City_ID|   Sunrise|    Sunset|Timezone|\n",
      "+-------+----------+----------+--------+\n",
      "|  98182|1747533631|1747583843|   10800|\n",
      "| 108410|1747534087|1747582272|   10800|\n",
      "| 112931|1747531633|1747582471|   12600|\n",
      "| 184745|1747538855|1747582259|   10800|\n",
      "| 264371|1747537953|1747589450|   10800|\n",
      "| 292223|1747531967|1747580273|   14400|\n",
      "| 293397|1747536099|1747585992|   10800|\n",
      "| 360630|1747537193|1747586593|   10800|\n",
      "| 524901|1747530767|1747589964|   10800|\n",
      "| 658225|1747532059|1747594758|   10800|\n",
      "| 745044|1747536226|1747588664|   10800|\n",
      "| 756135|1747535801|1747592899|    7200|\n",
      "|1275339|1747528397|1747575421|   19800|\n",
      "|1581130|1747520281|1747567700|   25200|\n",
      "|1609350|1747522255|1747568282|   25200|\n",
      "|1642911|1747522468|1747565031|   25200|\n",
      "|1668341|1747516099|1747564350|   28800|\n",
      "|1701668|1747517265|1747563448|   28800|\n",
      "|1735161|1747522908|1747567067|   28800|\n",
      "|1816670|1747515428|1747567486|   28800|\n",
      "+-------+----------+----------+--------+\n",
      "only showing top 20 rows\n",
      "\n"
     ]
    }
   ],
   "source": [
    "# Sunrise_Sunset_Table\n",
    "sunrise_sunset_df = df.select(\n",
    "    df[\"id\"].alias(\"City_ID\"),\n",
    "    df[\"sys.sunrise\"].alias(\"Sunrise\"),\n",
    "    df[\"sys.sunset\"].alias(\"Sunset\"),\n",
    "    df[\"timezone\"].alias(\"Timezone\")\n",
    ").orderBy(\"City_ID\")\n",
    "sunrise_sunset_df.show()\n",
    "#pandas_df = sunrise_sunset_df.toPandas()\n",
    "#path = os.path.join(output_dir, 'Sunrise_Sunset_Table.parquet')\n",
    "#pandas_df.to_parquet(path, engine='pyarrow') \n",
    "#path = os.path.join(output_dir, 'Sunrise_Sunset_Table.csv')\n",
    "#pandas_df.to_csv(path, index=False)"
   ]
  },
  {
   "cell_type": "code",
   "execution_count": 238,
   "id": "07b56658-ffe8-457e-adc0-fd66968fad51",
   "metadata": {},
   "outputs": [],
   "source": [
    "# Change Sunrise_Sunset_Table\n"
   ]
  },
  {
   "cell_type": "code",
   "execution_count": null,
   "id": "4dfd8c4c-ae0f-46c2-becc-a31eeab3abef",
   "metadata": {},
   "outputs": [],
   "source": []
  },
  {
   "cell_type": "code",
   "execution_count": null,
   "id": "cc3f47a4-1c0d-48df-8be4-8e966343e133",
   "metadata": {},
   "outputs": [],
   "source": []
  }
 ],
 "metadata": {
  "kernelspec": {
   "display_name": "Python 3.13 (PySpark)",
   "language": "python",
   "name": "pyspark313"
  },
  "language_info": {
   "codemirror_mode": {
    "name": "ipython",
    "version": 3
   },
   "file_extension": ".py",
   "mimetype": "text/x-python",
   "name": "python",
   "nbconvert_exporter": "python",
   "pygments_lexer": "ipython3",
   "version": "3.13.1"
  }
 },
 "nbformat": 4,
 "nbformat_minor": 5
}

{
 "cells": [
  {
   "cell_type": "code",
   "execution_count": 10,
   "id": "cb80e930-ef1c-4b34-87e5-4a38e86e86f7",
   "metadata": {},
   "outputs": [
    {
     "name": "stdout",
     "output_type": "stream",
     "text": [
      "The autoreload extension is already loaded. To reload it, use:\n",
      "  %reload_ext autoreload\n"
     ]
    }
   ],
   "source": [
    "%load_ext autoreload\n",
    "%autoreload 2\n",
    "import pyspark\n",
    "import json\n",
    "import pandas as pd\n",
    "from Cleaning_Class import data_cleaning\n",
    "from pyspark.sql import SparkSession\n",
    "from pyspark.sql.functions import *"
   ]
  },
  {
   "cell_type": "code",
   "execution_count": 56,
   "id": "8fe7d35a-3b21-4776-8f02-392873be81f6",
   "metadata": {},
   "outputs": [
    {
     "name": "stdout",
     "output_type": "stream",
     "text": [
      "+----------+----------+---------+------+----+----------------+--------------+-----------+---------------+-----+\n",
      "|Student_ID|First_Name|Last_Name|Gender| Age|      Department|Attendance (%)|Study Hours|Internet Access|Grade|\n",
      "+----------+----------+---------+------+----+----------------+--------------+-----------+---------------+-----+\n",
      "|     S1001|      omar| Williams|  Male|22.0|    Mathematics |          97.3|       10.5|            yes|    C|\n",
      "|     S1002|     Maria|    Brown|FEMALE|18.0|        Business|          NULL|       27.1|             No|    F|\n",
      "|     S1003|       Li |     Chan|  Male|20.0|Computer Science|          85.0|       NULL|            Yes|    B|\n",
      "|     S1004|     Aisha|    Smith|female|21.0|     engineering|          90.2|       12.0|            YES|    A|\n",
      "|     S1005|      omar| Williams|  Male|22.0|     Mathematics|          97.3|       10.5|            yes|    C|\n",
      "|     S1006|     James|   Garcia|  MALE|NULL|         Biology|          78.5|        8.5|             no|    D|\n",
      "|     S1007|     Linda|         |Female|19.0|     Mathematics|          91.4|        9.0|            yes|    A|\n",
      "+----------+----------+---------+------+----+----------------+--------------+-----------+---------------+-----+\n",
      "\n"
     ]
    }
   ],
   "source": [
    "spark = SparkSession.builder.appName(\"Practice_1\").getOrCreate()\n",
    "csv_file_path = \"C:/Users/saul2/Spark_Test/messy_students.csv\"\n",
    "df = spark.read.option(\"header\", True).csv(csv_file_path)\n",
    "df.show()"
   ]
  },
  {
   "cell_type": "code",
   "execution_count": 58,
   "id": "2b7af33d-3cdf-4bdd-8f5f-204038d87ae6",
   "metadata": {},
   "outputs": [
    {
     "name": "stdout",
     "output_type": "stream",
     "text": [
      "Class Created\n",
      "\n",
      "\n"
     ]
    }
   ],
   "source": [
    "# Cleang First_Names\n",
    "clean_data = data_cleaning(\"Hello\")"
   ]
  },
  {
   "cell_type": "code",
   "execution_count": 60,
   "id": "66fb6849-cf07-49ef-9338-99c9e8a7cb80",
   "metadata": {},
   "outputs": [
    {
     "name": "stdout",
     "output_type": "stream",
     "text": [
      "+----------+----------+---------+------+----+----------------+--------------+-----------+---------------+-----+\n",
      "|Student_ID|First_Name|Last_Name|Gender| Age|      Department|Attendance (%)|Study Hours|Internet Access|Grade|\n",
      "+----------+----------+---------+------+----+----------------+--------------+-----------+---------------+-----+\n",
      "|     S1001|      omar| Williams|  Male|22.0|    Mathematics |          97.3|       10.5|            yes|    C|\n",
      "|     S1002|     Maria|    Brown|FEMALE|18.0|        Business|          NULL|       27.1|             No|    F|\n",
      "|     S1003|       Li |     Chan|  Male|20.0|Computer Science|          85.0|       NULL|            Yes|    B|\n",
      "|     S1004|     Aisha|    Smith|female|21.0|     engineering|          90.2|       12.0|            YES|    A|\n",
      "|     S1005|      omar| Williams|  Male|22.0|     Mathematics|          97.3|       10.5|            yes|    C|\n",
      "|     S1006|     James|   Garcia|  MALE|NULL|         Biology|          78.5|        8.5|             no|    D|\n",
      "|     S1007|     Linda|         |Female|19.0|     Mathematics|          91.4|        9.0|            yes|    A|\n",
      "+----------+----------+---------+------+----+----------------+--------------+-----------+---------------+-----+\n",
      "\n"
     ]
    }
   ],
   "source": [
    "df.show()"
   ]
  },
  {
   "cell_type": "code",
   "execution_count": 62,
   "id": "cd5ce69f-b063-4848-a146-afeb814d70c9",
   "metadata": {},
   "outputs": [
    {
     "name": "stdout",
     "output_type": "stream",
     "text": [
      "+----------+----------+---------+------+----+----------------+--------------+-----------+---------------+-----+\n",
      "|Student_ID|First_Name|Last_Name|Gender| Age|      Department|Attendance (%)|Study Hours|Internet Access|Grade|\n",
      "+----------+----------+---------+------+----+----------------+--------------+-----------+---------------+-----+\n",
      "|     S1001|      omar| Williams|  Male|22.0|    Mathematics |          97.3|       10.5|            yes|    C|\n",
      "|     S1002|     Maria|    Brown|FEMALE|18.0|        Business|          NULL|       27.1|             No|    F|\n",
      "|     S1003|       Li |     Chan|  Male|20.0|Computer Science|          85.0|       NULL|            Yes|    B|\n",
      "|     S1004|     Aisha|    Smith|female|21.0|     engineering|          90.2|       12.0|            YES|    A|\n",
      "|     S1005|      omar| Williams|  Male|22.0|     Mathematics|          97.3|       10.5|            yes|    C|\n",
      "|     S1006|     James|   Garcia|  MALE|NULL|         Biology|          78.5|        8.5|             no|    D|\n",
      "|     S1007|     Linda|         |Female|19.0|     Mathematics|          91.4|        9.0|            yes|    A|\n",
      "+----------+----------+---------+------+----+----------------+--------------+-----------+---------------+-----+\n",
      "\n"
     ]
    }
   ],
   "source": [
    "# Fix column names\n",
    "dic_columns = {colNames: colNames.strip() for colNames in df.columns}\n",
    "df = clean_data.fix_column_names(df, dic_columns)\n",
    "#for old_cols, new_cols in dic_c|olumns.items():\n",
    "#    df = df.withColumnRenamed(old_cols, new_cols)\n",
    "df.show()"
   ]
  },
  {
   "cell_type": "code",
   "execution_count": 72,
   "id": "97e544c8-f8b8-41f7-97d7-1cd249aa5332",
   "metadata": {},
   "outputs": [
    {
     "name": "stdout",
     "output_type": "stream",
     "text": [
      "+----------+----------+---------+------+----+----------------+--------------+-----------+---------------+-----+\n",
      "|Student_ID|First_Name|Last_Name|Gender| Age|      Department|Attendance (%)|Study Hours|Internet Access|Grade|\n",
      "+----------+----------+---------+------+----+----------------+--------------+-----------+---------------+-----+\n",
      "|     S1001|      Omar| Williams|     M|22.0|    Mathematics |          97.3|       10.5|              Y|    C|\n",
      "|     S1002|     Maria|    Brown|     F|18.0|        Business|          NULL|       27.1|              N|    F|\n",
      "|     S1003|        Li|     Chan|     M|20.0|Computer Science|          85.0|       NULL|              Y|    B|\n",
      "|     S1004|     Aisha|    Smith|     F|21.0|     engineering|          90.2|       12.0|              Y|    A|\n",
      "|     S1005|      Omar| Williams|     M|22.0|     Mathematics|          97.3|       10.5|              Y|    C|\n",
      "|     S1006|     James|   Garcia|     M|NULL|         Biology|          78.5|        8.5|              N|    D|\n",
      "|     S1007|     Linda|         |     F|19.0|     Mathematics|          91.4|        9.0|              Y|    A|\n",
      "+----------+----------+---------+------+----+----------------+--------------+-----------+---------------+-----+\n",
      "\n",
      "+----------+----------+---------+------+----+----------------+--------------+-----------+---------------+-----+\n",
      "|Student_ID|First_Name|Last_Name|Gender| Age|      Department|Attendance (%)|Study Hours|Internet Access|Grade|\n",
      "+----------+----------+---------+------+----+----------------+--------------+-----------+---------------+-----+\n",
      "|     S1001|      Omar| Williams|     M|22.0|     Mathematics|          97.3|       10.5|              Y|    C|\n",
      "|     S1002|     Maria|    Brown|     F|18.0|        Business|          NULL|       27.1|              N|    F|\n",
      "|     S1003|        Li|     Chan|     M|20.0|Computer Science|          85.0|       NULL|              Y|    B|\n",
      "|     S1004|     Aisha|    Smith|     F|21.0|     Engineering|          90.2|       12.0|              Y|    A|\n",
      "|     S1005|      Omar| Williams|     M|22.0|     Mathematics|          97.3|       10.5|              Y|    C|\n",
      "|     S1006|     James|   Garcia|     M|NULL|         Biology|          78.5|        8.5|              N|    D|\n",
      "|     S1007|     Linda|         |     F|19.0|     Mathematics|          91.4|        9.0|              Y|    A|\n",
      "+----------+----------+---------+------+----+----------------+--------------+-----------+---------------+-----+\n",
      "\n"
     ]
    }
   ],
   "source": [
    "# Fixing Strings\n",
    "# Caps, Empty Spaces, etc\n",
    "df.show()\n",
    "string_col = [\"Student_ID\", \"First_Name\", \"Last_Name\", \"Department\", \"Gender\", \"Internet Access\"]\n",
    "df = clean_data.fix_strings(df, string_col)\n",
    "df.show()\n",
    "#for column in string_col:\n",
    "#    df = df.withColumn(column, initcap(lower(trim(col(column)))))"
   ]
  },
  {
   "cell_type": "code",
   "execution_count": 66,
   "id": "4f957cbf-4c9c-4ab2-afe6-be340f8b6b3a",
   "metadata": {},
   "outputs": [],
   "source": [
    "# Adding nulls to empty spaces\n",
    "df = clean_data.add_nulls(df, string_col)"
   ]
  },
  {
   "cell_type": "code",
   "execution_count": 68,
   "id": "cff712c8-216e-49d0-9173-4e3a4629021d",
   "metadata": {},
   "outputs": [],
   "source": [
    "# Simplify Chars\n",
    "charCols = ['Gender', 'Internet Access']\n",
    "df = clean_data.simplify_chars(df, charCols)"
   ]
  },
  {
   "cell_type": "code",
   "execution_count": 317,
   "id": "d7f5dd6d-6455-43d5-a4b5-2c3ed4019f8b",
   "metadata": {},
   "outputs": [
    {
     "data": {
      "text/plain": [
       "DataFrame[Student_ID: string, First_Name: string, Last_Name: string, Gender: string, Age: string, Department: string, Attendance: string, Study Hours: string, Internet Access: string, Grade: string]"
      ]
     },
     "execution_count": 317,
     "metadata": {},
     "output_type": "execute_result"
    }
   ],
   "source": [
    "# Clean Attendance\n",
    "# Rename column\n",
    "df.select(\"Attendance (%)\")\n",
    "df.withColumnRenamed(\"Attendance (%)\", \"Attendance\")"
   ]
  },
  {
   "cell_type": "code",
   "execution_count": 70,
   "id": "9c5ffc10-984f-41f1-becd-31a165e54442",
   "metadata": {},
   "outputs": [
    {
     "name": "stdout",
     "output_type": "stream",
     "text": [
      "+----------+----------+---------+------+----+----------------+--------------+-----------+---------------+-----+\n",
      "|Student_ID|First_Name|Last_Name|Gender| Age|      Department|Attendance (%)|Study Hours|Internet Access|Grade|\n",
      "+----------+----------+---------+------+----+----------------+--------------+-----------+---------------+-----+\n",
      "|     S1001|      Omar| Williams|     M|22.0|    Mathematics |          97.3|       10.5|              Y|    C|\n",
      "|     S1002|     Maria|    Brown|     F|18.0|        Business|          NULL|       27.1|              N|    F|\n",
      "|     S1003|        Li|     Chan|     M|20.0|Computer Science|          85.0|       NULL|              Y|    B|\n",
      "|     S1004|     Aisha|    Smith|     F|21.0|     engineering|          90.2|       12.0|              Y|    A|\n",
      "|     S1005|      Omar| Williams|     M|22.0|     Mathematics|          97.3|       10.5|              Y|    C|\n",
      "|     S1006|     James|   Garcia|     M|NULL|         Biology|          78.5|        8.5|              N|    D|\n",
      "|     S1007|     Linda|         |     F|19.0|     Mathematics|          91.4|        9.0|              Y|    A|\n",
      "+----------+----------+---------+------+----+----------------+--------------+-----------+---------------+-----+\n",
      "\n"
     ]
    }
   ],
   "source": [
    "df.show()"
   ]
  },
  {
   "cell_type": "code",
   "execution_count": null,
   "id": "9e8c7a07-f089-40b3-8ce5-b106af82b704",
   "metadata": {},
   "outputs": [],
   "source": []
  }
 ],
 "metadata": {
  "kernelspec": {
   "display_name": "Python 3.13 (PySpark)",
   "language": "python",
   "name": "pyspark313"
  },
  "language_info": {
   "codemirror_mode": {
    "name": "ipython",
    "version": 3
   },
   "file_extension": ".py",
   "mimetype": "text/x-python",
   "name": "python",
   "nbconvert_exporter": "python",
   "pygments_lexer": "ipython3",
   "version": "3.13.1"
  }
 },
 "nbformat": 4,
 "nbformat_minor": 5
}

{
 "cells": [
  {
   "cell_type": "code",
   "execution_count": 65,
   "id": "502896fa-66f4-4050-bccd-bcee79baf7e1",
   "metadata": {},
   "outputs": [
    {
     "name": "stdout",
     "output_type": "stream",
     "text": [
      "The autoreload extension is already loaded. To reload it, use:\n",
      "  %reload_ext autoreload\n"
     ]
    }
   ],
   "source": [
    "import requests\n",
    "import urllib.request\n",
    "import httpx\n",
    "import os\n",
    "%load_ext autoreload\n",
    "%autoreload 2\n",
    "import pandas as pd\n",
    "import pyspark\n",
    "import json\n",
    "import pyarrow\n",
    "from pyspark.sql import SparkSession\n",
    "from pyspark.sql.utils import AnalysisException\n",
    "from pyspark.sql import Row\n",
    "from pyspark.sql.window import Window\n",
    "from py4j.protocol import Py4JJavaError\n",
    "from datetime import datetime, timedelta\n",
    "\n",
    "from pyspark.sql.functions import *\n",
    "from pyspark.sql.types import IntegerType, BooleanType\n",
    "\n",
    "os.environ['SPARK_HOME'] = 'C:/Users/saul2/Spark_DF/spark-3.5.5-bin-hadoop3'\n",
    "os.environ['HADOOP_HOME'] = 'C:/Users/saul2/Spark_DF/spark-3.5.5-bin-hadoop3'\n",
    "os.environ['JAVA_HOME'] = 'C:/Program Files/Java/jdk1.8.0_202'"
   ]
  },
  {
   "cell_type": "code",
   "execution_count": 67,
   "id": "d9b4220d-41d9-45a0-8802-70dde0692062",
   "metadata": {},
   "outputs": [],
   "source": [
    "# 45 Popular City Ids from around the world\n",
    "city_ids = [\n",
    "    \"5128581\", \"2643743\", \"2988507\", \"1850147\", \"2147714\", \"2950159\", \"6167865\", \"3448433\", \"3530597\", \"1275339\",\n",
    "    \"360630\", \"1816670\", \"524901\", \"292223\", \"3369157\", \"3169070\", \"1609350\", \"745044\", \"5368361\", \"1880252\",\n",
    "    \"3435910\", \"1835848\", \"3117735\", \"1642911\", \"4887398\", \"3936456\", \"184745\", \"3871336\", \"108410\", \"1735161\",\n",
    "    \"2332459\", \"756135\", \"2761369\", \"3067696\", \"3054643\", \"1701668\", \"2964574\", \"658225\", \"2800866\", \"2618425\",\n",
    "    \"3143244\", \"2673730\", \"2759794\", \"2657896\", \"3413829\", \"264371\", \"112931\", \"98182\", \"1581130\", \"1668341\",\n",
    "    \"2063523\", \"2193733\", \"5856195\", \"6173331\", \"293397\", \"2553604\"\n",
    "]\n",
    "weather_api_key = \"cd287a1f7182d4161353e9b62eaa2227\"\n",
    "ids = \",\".join(city_ids)"
   ]
  },
  {
   "cell_type": "code",
   "execution_count": 69,
   "id": "7b95cd0c-24c1-4ccf-9d3a-cdbc100cc560",
   "metadata": {},
   "outputs": [],
   "source": [
    "timestamp = datetime.now().strftime(\"%Y%m%d_%H%M%S\")\n",
    "filename = f\"50_City_{timestamp}.json\"\n",
    "with open(filename, \"w\") as f:\n",
    "    for city_id in city_ids:\n",
    "        url = f\"http://api.openweathermap.org/data/2.5/weather?id={city_id}&appid={weather_api_key}&units=metric\"\n",
    "        response = requests.get(url)\n",
    "        \n",
    "        #data = response.json()\n",
    "        if response.status_code == 200:\n",
    "            data = response.json()\n",
    "            f.write(json.dumps(data) + \"\\n\")\n",
    "            #print(filename)\n",
    "            #print(f\"{data['name']}: {data['main']['temp']}°C\")\n",
    "        else:\n",
    "            print(f\"❌ Failed for city ID {city_id}: {response.status_code}\")"
   ]
  },
  {
   "cell_type": "code",
   "execution_count": 70,
   "id": "e0da1c75-93ce-430f-a00c-8f5d572a3739",
   "metadata": {},
   "outputs": [],
   "source": [
    "spark = SparkSession.builder.appName(\"Weather_Session\").getOrCreate()"
   ]
  },
  {
   "cell_type": "code",
   "execution_count": 71,
   "id": "9590bd6b-a28d-4eb3-b28e-2c5a8406ef39",
   "metadata": {},
   "outputs": [],
   "source": [
    "try:\n",
    "    df = spark.read.json(filename)\n",
    "except AnalysisException  as e:\n",
    "    # Path does not exists\n",
    "    print(e)"
   ]
  },
  {
   "cell_type": "code",
   "execution_count": 72,
   "id": "9a33e99c-1d57-4c50-9665-490f7f33afac",
   "metadata": {},
   "outputs": [],
   "source": [
    "#df.show()"
   ]
  },
  {
   "cell_type": "code",
   "execution_count": 73,
   "id": "0e7bfd86-9451-4da5-9823-327fff11bea4",
   "metadata": {},
   "outputs": [],
   "source": [
    "# Create location DF\n",
    "location_df = df.select(\n",
    "    df[\"id\"].alias(\"ID\"),\n",
    "    df[\"name\"].alias(\"City\"),\n",
    "    df[\"sys.country\"].alias(\"Country\"),\n",
    "    df[\"coord.lat\"].alias(\"Latitude\"),\n",
    "    df[\"coord.lon\"].alias(\"Longitude\")\n",
    ").orderBy(\"ID\")"
   ]
  },
  {
   "cell_type": "code",
   "execution_count": 74,
   "id": "87fa2434-b849-43f9-ad88-e41290ad52f4",
   "metadata": {},
   "outputs": [],
   "source": [
    "# Create Temperature & Pressure Table\n",
    "temperature_df = df.select(\n",
    "    df[\"id\"].alias(\"City_ID\"),\n",
    "    df[\"main.temp\"].alias(\"Temp\"),\n",
    "    df[\"main.temp_max\"].alias(\"Temp_Max\"),\n",
    "    df[\"main.temp_min\"].alias(\"Temp_Min\"),\n",
    "    df[\"main.feels_like\"].alias(\"Feels_Like\"),\n",
    "    df[\"main.humidity\"].alias(\"Humidity\"),\n",
    "    df[\"main.pressure\"].alias(\"Pressure\"),\n",
    "    df[\"main.sea_level\"].alias(\"Sea_Level\")\n",
    ").orderBy(\"City_ID\")"
   ]
  },
  {
   "cell_type": "code",
   "execution_count": 75,
   "id": "40202329-fcbb-45fd-bef2-94fcf6ebb4c5",
   "metadata": {},
   "outputs": [],
   "source": [
    "# Create Wind & Clouds Table\n",
    "wind_df = df.select(\n",
    "    df[\"id\"].alias(\"City_ID\"),\n",
    "    df[\"clouds.all\"].alias(\"Cloudiness_Percentage\"),\n",
    "    df[\"wind.deg\"].alias(\"Wind_Direction_Degree\"),\n",
    "    df[\"wind.gust\"].alias(\"Gust_Speed\"),\n",
    "    df[\"wind.speed\"].alias(\"Wind_Speed\")\n",
    ").orderBy(\"City_ID\")"
   ]
  },
  {
   "cell_type": "code",
   "execution_count": 76,
   "id": "83097b91-ca05-4c19-a1c6-d20c2a0c2836",
   "metadata": {},
   "outputs": [],
   "source": [
    "# Create Weather Description\n",
    "weather_desc_df = df.select(\n",
    "    df[\"id\"].alias(\"City_ID\"),\n",
    "    df[\"weather\"][0][\"main\"].alias(\"Main_Weather\"),\n",
    "    df[\"weather\"][0][\"description\"].alias(\"Description\"),\n",
    "    df[\"weather\"][0][\"icon\"].alias(\"Icon\")\n",
    ").orderBy(\"City_ID\")"
   ]
  },
  {
   "cell_type": "code",
   "execution_count": 81,
   "id": "92a024cb-3e12-4ea9-9804-211a87b6928c",
   "metadata": {},
   "outputs": [],
   "source": [
    "# Sunrise_Sunset_Table\n",
    "sunrise_sunset_df = df.select(\n",
    "    df[\"id\"].alias(\"City_ID\"),\n",
    "    df[\"sys.sunrise\"].alias(\"Sunrise\"),\n",
    "    df[\"sys.sunset\"].alias(\"Sunset\"),\n",
    "    df[\"timezone\"].alias(\"Timezone\")\n",
    ").orderBy(\"City_ID\")"
   ]
  },
  {
   "cell_type": "code",
   "execution_count": 86,
   "id": "4c3fbddc-68fb-4a5d-bb9d-a9189392f6a9",
   "metadata": {},
   "outputs": [
    {
     "name": "stdout",
     "output_type": "stream",
     "text": [
      "+-------+----------+-------+--------+--------+--------------+--------+\n",
      "|     ID|      City|Country| Sunrise|  Sunset|Daylight_Hours|Timezone|\n",
      "+-------+----------+-------+--------+--------+--------------+--------+\n",
      "|3413829| Reykjavik|     IS|21:02:45|15:45:31|         18.71|       0|\n",
      "| 658225|  Helsinki|     FI|21:32:07|15:01:37|         17.49|   10800|\n",
      "|3143244|      Oslo|     NO|21:30:49|14:56:26|         17.43|    7200|\n",
      "|2673730| Stockholm|     SE|21:06:01|14:22:41|         17.28|    7200|\n",
      "| 524901|    Moscow|     RU|21:11:06|13:41:11|          16.5|   10800|\n",
      "|2618425|Copenhagen|     DK|21:51:37|14:21:05|         16.49|    7200|\n",
      "|2964574|    Dublin|     IE|22:19:04|14:24:18|         16.09|    3600|\n",
      "|2950159|    Berlin|     DE|22:04:19|14:01:37|         15.96|    7200|\n",
      "|2759794| Amsterdam|     NL|22:39:04|14:35:02|         15.93|    7200|\n",
      "| 756135|    Warsaw|     PL|21:35:18|13:29:50|         15.91|    7200|\n",
      "+-------+----------+-------+--------+--------+--------------+--------+\n",
      "\n",
      "+-------+----------+-------+--------+--------+--------------+--------+----+\n",
      "|     ID|      CITY|COUNTRY| SUNRISE|  SUNSET|DAYLIGHT_HOURS|TIMEZONE|RANK|\n",
      "+-------+----------+-------+--------+--------+--------------+--------+----+\n",
      "|3413829| Reykjavik|     IS|21:02:45|15:45:31|         18.71|       0|   1|\n",
      "| 658225|  Helsinki|     FI|21:32:07|15:01:37|         17.49|   10800|   2|\n",
      "|3143244|      Oslo|     NO|21:30:49|14:56:26|         17.43|    7200|   3|\n",
      "|2673730| Stockholm|     SE|21:06:01|14:22:41|         17.28|    7200|   4|\n",
      "| 524901|    Moscow|     RU|21:11:06|13:41:11|          16.5|   10800|   5|\n",
      "|2618425|Copenhagen|     DK|21:51:37|14:21:05|         16.49|    7200|   6|\n",
      "|2964574|    Dublin|     IE|22:19:04|14:24:18|         16.09|    3600|   7|\n",
      "|2950159|    Berlin|     DE|22:04:19|14:01:37|         15.96|    7200|   8|\n",
      "|2759794| Amsterdam|     NL|22:39:04|14:35:02|         15.93|    7200|   9|\n",
      "| 756135|    Warsaw|     PL|21:35:18|13:29:50|         15.91|    7200|  10|\n",
      "+-------+----------+-------+--------+--------+--------------+--------+----+\n",
      "\n"
     ]
    }
   ],
   "source": [
    "# Which cities have the longest daylight duration?\n",
    "# Convert the time into readable time. Order by daylight hour\n",
    "top_10_cities = sunrise_sunset_df.select(\n",
    "    col(\"City_ID\"), \n",
    "    date_format(from_unixtime(col(\"Sunrise\") + col(\"Timezone\")),\"HH:mm:ss\").alias(\"Sunrise\"),\n",
    "    date_format(from_unixtime(col(\"Sunset\") + col(\"Timezone\")),\"HH:mm:ss\").alias(\"Sunset\"), \n",
    "    round(((col(\"Sunset\") - col(\"Sunrise\")) / 3600),2).alias(\"Daylight_Hours\"),\n",
    "    col(\"Timezone\")).orderBy(col(\"Daylight_Hours\").desc()).limit(10)\n",
    "\n",
    "final_table = top_10_cities.join(location_df, top_10_cities[\"City_ID\"] == location_df[\"ID\"]\n",
    "                ).select(location_df[\"ID\"], \n",
    "                         location_df[\"City\"], \n",
    "                         location_df[\"Country\"], \n",
    "                         top_10_cities[\"Sunrise\"], \n",
    "                         top_10_cities[\"Sunset\"], \n",
    "                         top_10_cities[\"Daylight_Hours\"], \n",
    "                         top_10_cities[\"Timezone\"]\n",
    "                ).orderBy(col(\"Daylight_Hours\").desc())\n",
    "#final_table.show()\n",
    "\n",
    "final_table.createOrReplaceTempView(\"Final_Table\")\n",
    "\n",
    "query = '''\n",
    "        SELECT ID, CITY, COUNTRY, SUNRISE, SUNSET, DAYLIGHT_HOURS, TIMEZONE, RANK()OVER(ORDER BY DAYLIGHT_HOURS DESC) RANK\n",
    "        FROM FINAL_TABLE\n",
    "    '''\n",
    "result = spark.sql(query)\n",
    "result.show()"
   ]
  },
  {
   "cell_type": "code",
   "execution_count": 88,
   "id": "d643a07f-1d79-4f07-939f-55b88803d338",
   "metadata": {},
   "outputs": [
    {
     "name": "stdout",
     "output_type": "stream",
     "text": [
      "+-------+---------+-------+-----+----------+----------+----+\n",
      "|CITY_ID|     CITY|COUNTRY| TEMP|FEELS_LIKE|DIFFERENCE|RANK|\n",
      "+-------+---------+-------+-----+----------+----------+----+\n",
      "|1609350|  Bangkok|     TH| 29.0|      36.0|       7.0|   1|\n",
      "|1701668|   Manila|     PH|30.78|     36.17|      5.39|   2|\n",
      "|1275339|   Mumbai|     IN|29.99|     35.01|      5.02|   3|\n",
      "|2332459|    Lagos|     NG|27.47|     30.57|       3.1|   4|\n",
      "|2673730|Stockholm|     SE| 7.74|      5.17|      2.57|   5|\n",
      "|3067696|   Prague|     CZ| 9.15|       6.9|      2.25|   6|\n",
      "|5856195| Honolulu|     US|27.44|     29.52|      2.08|   7|\n",
      "| 108410|   Riyadh|     SA|28.61|     27.07|      1.54|   8|\n",
      "|3143244|     Oslo|     NO|13.09|     11.66|      1.43|   9|\n",
      "|1816670|  Beijing|     CN|17.94|      16.7|      1.24|  10|\n",
      "+-------+---------+-------+-----+----------+----------+----+\n",
      "\n"
     ]
    }
   ],
   "source": [
    "# Which city has the highest difference between actual temperature and feels-like temperature?\n",
    "# temperature_df\n",
    "top_10_cities = temperature_df.select(\n",
    "    col(\"City_ID\"), \n",
    "    col(\"Temp\"), \n",
    "    col(\"Feels_Like\"), \n",
    "    round(abs(col(\"Temp\") - col(\"Feels_Like\")),2).alias(\"Difference\")\n",
    "        ).orderBy(col(\"Difference\").desc()).limit(10)\n",
    "#top_10_cities.show()\n",
    "\n",
    "final_top_10_cities_temperature = top_10_cities.join(location_df, top_10_cities[\"City_ID\"] == location_df[\"ID\"]).select(\n",
    "    top_10_cities[\"City_ID\"], \n",
    "    location_df[\"City\"], \n",
    "    location_df[\"Country\"], \n",
    "    top_10_cities[\"Temp\"], \n",
    "    top_10_cities[\"Feels_Like\"], \n",
    "    top_10_cities[\"Difference\"]\n",
    "        ).orderBy(col(\"Difference\").desc())\n",
    "#final_top_10_cities_temperature.show()\n",
    "\n",
    "final_top_10_cities_temperature.createOrReplaceTempView(\"Final_Table\")\n",
    "\n",
    "query = '''\n",
    "        SELECT CITY_ID, CITY, COUNTRY, TEMP, FEELS_LIKE, DIFFERENCE, RANK()OVER(ORDER BY DIFFERENCE DESC) RANK\n",
    "        FROM FINAL_TABLE\n",
    "    '''\n",
    "\n",
    "final_result = spark.sql(query)\n",
    "final_result.show()"
   ]
  },
  {
   "cell_type": "code",
   "execution_count": null,
   "id": "22281807-d328-446f-ac17-68936618dd36",
   "metadata": {},
   "outputs": [],
   "source": []
  }
 ],
 "metadata": {
  "kernelspec": {
   "display_name": "Python 3.13 (PySpark)",
   "language": "python",
   "name": "pyspark313"
  },
  "language_info": {
   "codemirror_mode": {
    "name": "ipython",
    "version": 3
   },
   "file_extension": ".py",
   "mimetype": "text/x-python",
   "name": "python",
   "nbconvert_exporter": "python",
   "pygments_lexer": "ipython3",
   "version": "3.13.1"
  }
 },
 "nbformat": 4,
 "nbformat_minor": 5
}

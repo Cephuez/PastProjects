{
 "cells": [
  {
   "cell_type": "code",
   "execution_count": 13,
   "id": "a4a8e2bd-d044-4c19-8326-016b6dbfe13c",
   "metadata": {},
   "outputs": [],
   "source": [
    "import os\n",
    "from azure.storage.blob import BlobServiceClient, BlobClient, ContainerClient"
   ]
  },
  {
   "cell_type": "code",
   "execution_count": 3,
   "id": "6dd446d4-1414-452c-af97-fd8e5383afca",
   "metadata": {},
   "outputs": [],
   "source": [
    "connection_string = \"DefaultEndpointsProtocol=https;AccountName=your_account;AccountKey=your_key;EndpointSuffix=core.windows.net\"\n",
    "container_name = \"your-container\"\n",
    "blob_name = \"your_file.csv\"\n",
    "local_file_path = \"path/to/your_file.csv\""
   ]
  },
  {
   "cell_type": "code",
   "execution_count": 5,
   "id": "e138dd4e-7e9e-494d-94a7-149953794f2e",
   "metadata": {},
   "outputs": [],
   "source": [
    "# Connect to blob service client\n",
    "blob_service_client = BlobServiceClient.from_connection_string(connection_string)"
   ]
  },
  {
   "cell_type": "code",
   "execution_count": 7,
   "id": "1377b67b-beac-40a1-9316-5a843294f503",
   "metadata": {},
   "outputs": [],
   "source": [
    "# Create container if it doesn't exits\n",
    "try:\n",
    "    container_client = blob_service_client.create_container(container_name)\n",
    "except Exception:\n",
    "    container_client = blob_service_client.get_container_client(container_name)"
   ]
  },
  {
   "cell_type": "code",
   "execution_count": 9,
   "id": "90d679fc-d021-41a2-9d16-ee654c4a3b42",
   "metadata": {},
   "outputs": [],
   "source": [
    "directory = 'C:/Users/saul2/OneDrive/Desktop/PastProjects/ETL_Project/VG_Sales/results'"
   ]
  },
  {
   "cell_type": "code",
   "execution_count": 17,
   "id": "4590076c-10f6-4cf9-a4d1-f19fc09c7709",
   "metadata": {},
   "outputs": [
    {
     "name": "stdout",
     "output_type": "stream",
     "text": [
      "File: C:/Users/saul2/OneDrive/Desktop/PastProjects/ETL_Project/VG_Sales/results\\EU_TOP_5_PERCENT_NOT_5_PERCENT_GLOBAL.csv uploaded\n",
      "File: C:/Users/saul2/OneDrive/Desktop/PastProjects/ETL_Project/VG_Sales/results\\EU_TOP_5_PERCENT_NOT_5_PERCENT_GLOBAL.json uploaded\n",
      "File: C:/Users/saul2/OneDrive/Desktop/PastProjects/ETL_Project/VG_Sales/results\\EU_TOP_5_PERCENT_NOT_5_PERCENT_GLOBAL.parquet uploaded\n",
      "File: C:/Users/saul2/OneDrive/Desktop/PastProjects/ETL_Project/VG_Sales/results\\GLOBAL_SALE_RANK.csv uploaded\n",
      "File: C:/Users/saul2/OneDrive/Desktop/PastProjects/ETL_Project/VG_Sales/results\\GLOBAL_SALE_RANK.json uploaded\n",
      "File: C:/Users/saul2/OneDrive/Desktop/PastProjects/ETL_Project/VG_Sales/results\\GLOBAL_SALE_RANK.parquet uploaded\n",
      "File: C:/Users/saul2/OneDrive/Desktop/PastProjects/ETL_Project/VG_Sales/results\\PLATFORM_TOP_100_GLOBAL_SALES.csv uploaded\n",
      "File: C:/Users/saul2/OneDrive/Desktop/PastProjects/ETL_Project/VG_Sales/results\\PLATFORM_TOP_100_GLOBAL_SALES.json uploaded\n",
      "File: C:/Users/saul2/OneDrive/Desktop/PastProjects/ETL_Project/VG_Sales/results\\PLATFORM_TOP_100_GLOBAL_SALES.parquet uploaded\n",
      "File: C:/Users/saul2/OneDrive/Desktop/PastProjects/ETL_Project/VG_Sales/results\\PUBLISHER_3_YEAR_GLOBAL_SALE_STREAK.csv uploaded\n",
      "File: C:/Users/saul2/OneDrive/Desktop/PastProjects/ETL_Project/VG_Sales/results\\PUBLISHER_3_YEAR_GLOBAL_SALE_STREAK.json uploaded\n",
      "File: C:/Users/saul2/OneDrive/Desktop/PastProjects/ETL_Project/VG_Sales/results\\PUBLISHER_3_YEAR_GLOBAL_SALE_STREAK.parquet uploaded\n",
      "File: C:/Users/saul2/OneDrive/Desktop/PastProjects/ETL_Project/VG_Sales/results\\REGION_PERCENTAGE_SALES.csv uploaded\n",
      "File: C:/Users/saul2/OneDrive/Desktop/PastProjects/ETL_Project/VG_Sales/results\\REGION_PERCENTAGE_SALES.json uploaded\n",
      "File: C:/Users/saul2/OneDrive/Desktop/PastProjects/ETL_Project/VG_Sales/results\\REGION_PERCENTAGE_SALES.parquet uploaded\n",
      "File: C:/Users/saul2/OneDrive/Desktop/PastProjects/ETL_Project/VG_Sales/results\\TOP_GLOBAL_GAME_PER_PLATFORM.csv uploaded\n",
      "File: C:/Users/saul2/OneDrive/Desktop/PastProjects/ETL_Project/VG_Sales/results\\TOP_GLOBAL_GAME_PER_PLATFORM.json uploaded\n",
      "File: C:/Users/saul2/OneDrive/Desktop/PastProjects/ETL_Project/VG_Sales/results\\TOP_GLOBAL_GAME_PER_PLATFORM.parquet uploaded\n",
      "File: C:/Users/saul2/OneDrive/Desktop/PastProjects/ETL_Project/VG_Sales/results\\YEARLY_GENRE_TREND.csv uploaded\n",
      "File: C:/Users/saul2/OneDrive/Desktop/PastProjects/ETL_Project/VG_Sales/results\\YEARLY_GENRE_TREND.json uploaded\n",
      "File: C:/Users/saul2/OneDrive/Desktop/PastProjects/ETL_Project/VG_Sales/results\\YEARLY_GENRE_TREND.parquet uploaded\n",
      "File: C:/Users/saul2/OneDrive/Desktop/PastProjects/ETL_Project/VG_Sales/results\\YEARLY_REGION_TOP_GENRE.csv uploaded\n",
      "File: C:/Users/saul2/OneDrive/Desktop/PastProjects/ETL_Project/VG_Sales/results\\YEARLY_REGION_TOP_GENRE.json uploaded\n",
      "File: C:/Users/saul2/OneDrive/Desktop/PastProjects/ETL_Project/VG_Sales/results\\YEARLY_REGION_TOP_GENRE.parquet uploaded\n"
     ]
    }
   ],
   "source": [
    "# Upload the file \n",
    "for filename in os.listdir(directory):\n",
    "    local_file_path = os.path.join(directory,filename)\n",
    "    #print(local_file_path)\n",
    "\n",
    "    s3_file_path = filename\n",
    "    try:\n",
    "        # Upload  file to S3\n",
    "        #s3.upload_file(local_file_path, bucket_name, s3_file_path)\n",
    "        print(\"File: \"+ local_file_path+ \" uploaded\")\n",
    "        #print(\"xd\")\n",
    "    except Exception as e:\n",
    "        print(\"Error: \" + local_file_path)"
   ]
  },
  {
   "cell_type": "code",
   "execution_count": null,
   "id": "dd8ee3e8-3330-4825-887d-9386b84a0432",
   "metadata": {},
   "outputs": [],
   "source": []
  }
 ],
 "metadata": {
  "kernelspec": {
   "display_name": "Python 3.13 (with Kaggle)",
   "language": "python",
   "name": "py313"
  },
  "language_info": {
   "codemirror_mode": {
    "name": "ipython",
    "version": 3
   },
   "file_extension": ".py",
   "mimetype": "text/x-python",
   "name": "python",
   "nbconvert_exporter": "python",
   "pygments_lexer": "ipython3",
   "version": "3.13.1"
  }
 },
 "nbformat": 4,
 "nbformat_minor": 5
}

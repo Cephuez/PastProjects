{
 "cells": [
  {
   "cell_type": "code",
   "execution_count": 9,
   "id": "79a02dd0-9371-4c3c-92cc-a731a327f487",
   "metadata": {},
   "outputs": [],
   "source": [
    "import requests\n",
    "import json\n",
    "import urllib.request\n",
    "import httpx\n",
    "from datetime import datetime\n",
    "\n",
    "import pandas as pd"
   ]
  },
  {
   "cell_type": "code",
   "execution_count": 65,
   "id": "e66a3e3f-92b3-4497-bca1-b1bb81c85572",
   "metadata": {},
   "outputs": [],
   "source": [
    "weather_api_key = \"cd287a1f7182d4161353e9b62eaa2227\"\n",
    "city1 = \"New York\""
   ]
  },
  {
   "cell_type": "code",
   "execution_count": 67,
   "id": "47b0b8d5-fd7b-4e48-a4c0-9047876d5e6f",
   "metadata": {},
   "outputs": [],
   "source": [
    "url = f\"http://api.openweathermap.org/data/2.5/weather?q={city1}&appid={weather_api_key}&units=metric\""
   ]
  },
  {
   "cell_type": "code",
   "execution_count": 69,
   "id": "40123bbb-4969-4aac-b8d9-cfb9ba47052a",
   "metadata": {},
   "outputs": [],
   "source": [
    "response = requests.get(url)"
   ]
  },
  {
   "cell_type": "code",
   "execution_count": 71,
   "id": "e0819da5-1b1b-4b5a-be9f-95fea4870921",
   "metadata": {},
   "outputs": [
    {
     "name": "stdout",
     "output_type": "stream",
     "text": [
      "✅ Weather data saved to: weather_New_York_20250516_233801.json\n"
     ]
    }
   ],
   "source": [
    "if response.status_code == 200:\n",
    "    data = response.json()\n",
    "    timestamp = datetime.now().strftime(\"%Y%m%d_%H%M%S\")\n",
    "    filename = f\"weather_{city1.replace(' ', '_')}_{timestamp}.json\"\n",
    "    \n",
    "    with open(filename, \"w\") as f:\n",
    "        json.dump(data, f, indent=4)\n",
    "    \n",
    "    print(f\"✅ Weather data saved to: {filename}\")\n",
    "else:\n",
    "    print(f\"❌ Failed to get weather data. Status code: {response.status_code}\")\n",
    "    print(response.text)"
   ]
  },
  {
   "cell_type": "code",
   "execution_count": 73,
   "id": "5a4a3046-beaa-47ba-aa0e-159840779f2a",
   "metadata": {},
   "outputs": [],
   "source": [
    "with open(\"weather_New_York_20250516_152423.json\") as f:\n",
    "    data = json.load(f)\n",
    "with open(\"weather_lines.json\", \"w\") as f:\n",
    "    f.write(json.dumps(data) + \"\\n\")"
   ]
  },
  {
   "cell_type": "code",
   "execution_count": 121,
   "id": "c1f7ea78-5be2-444e-8c43-76e88d43326e",
   "metadata": {},
   "outputs": [],
   "source": [
    "# Get 20 city names\n",
    "city_ids = [\n",
    "    \"5128581\", \"2643743\", \"2988507\", \"1850147\", \"2147714\", \"2950159\", \"6167865\", \"3448433\", \"3530597\", \"1275339\",\n",
    "    \"360630\", \"1816670\", \"524901\", \"292223\", \"3369157\", \"3169070\", \"1609350\", \"745044\", \"5368361\", \"1880252\",\n",
    "    \"3435910\", \"1835848\", \"3117735\", \"1642911\", \"4887398\", \"3936456\", \"184745\", \"3871336\", \"108410\", \"1735161\",\n",
    "    \"2332459\", \"756135\", \"2761369\", \"3067696\", \"3054643\", \"1701668\", \"2964574\", \"658225\", \"2800866\", \"2618425\",\n",
    "    \"3143244\", \"2673730\", \"2759794\", \"2657896\", \"3413829\", \"264371\", \"112931\", \"98182\", \"1581130\", \"1668341\",\n",
    "    \"2063523\", \"2193733\", \"5856195\", \"6173331\", \"293397\", \"2553604\"\n",
    "]\n",
    "ids = \",\".join(city_ids)"
   ]
  },
  {
   "cell_type": "code",
   "execution_count": 125,
   "id": "e0885010-5796-4d4b-b433-0e0b050bc81b",
   "metadata": {},
   "outputs": [],
   "source": [
    "timestamp = datetime.now().strftime(\"%Y%m%d_%H%M%S\")\n",
    "filename = f\"50_City_{timestamp}.json\"\n",
    "with open(filename, \"w\") as f:\n",
    "    for city_id in city_ids:\n",
    "        url = f\"http://api.openweathermap.org/data/2.5/weather?id={city_id}&appid={weather_api_key}&units=metric\"\n",
    "        response = requests.get(url)\n",
    "        \n",
    "        #data = response.json()\n",
    "        if response.status_code == 200:\n",
    "            data = response.json()\n",
    "            f.write(json.dumps(data) + \"\\n\")\n",
    "            #print(filename)\n",
    "            #print(f\"{data['name']}: {data['main']['temp']}°C\")\n",
    "        else:\n",
    "            print(f\"❌ Failed for city ID {city_id}: {response.status_code}\")"
   ]
  },
  {
   "cell_type": "code",
   "execution_count": 93,
   "id": "166f0cc6-a3b2-4728-8bb4-efebdf759a5a",
   "metadata": {},
   "outputs": [],
   "source": [
    "url = f\"http://api.openweathermap.org/data/2.5/group?id={ids}&appid={weather_api_key}&units=metric\"\n",
    "response = requests.get(url)"
   ]
  },
  {
   "cell_type": "code",
   "execution_count": 97,
   "id": "f7a7f9d1-77c3-4e15-ad3f-b23356c02b12",
   "metadata": {},
   "outputs": [
    {
     "name": "stdout",
     "output_type": "stream",
     "text": [
      "❌ Failed to get data. Status code: 401\n",
      "{\"cod\":401, \"message\": \"Invalid API key. Please see https://openweathermap.org/faq#error401 for more info.\"}\n"
     ]
    }
   ],
   "source": [
    "if response.status_code == 200:\n",
    "    data = response.json()\n",
    "    for city_data in data[\"list\"]:\n",
    "        print(f\"{city_data['name']}: {city_data['main']['temp']}°C\")\n",
    "else:\n",
    "    print(f\"❌ Failed to get data. Status code: {response.status_code}\")\n",
    "    print(response.text)"
   ]
  },
  {
   "cell_type": "code",
   "execution_count": null,
   "id": "3e9c6d3b-e758-4651-8c55-c0936382acd3",
   "metadata": {},
   "outputs": [],
   "source": []
  }
 ],
 "metadata": {
  "kernelspec": {
   "display_name": "Python 3.13 (with Kaggle)",
   "language": "python",
   "name": "py313"
  },
  "language_info": {
   "codemirror_mode": {
    "name": "ipython",
    "version": 3
   },
   "file_extension": ".py",
   "mimetype": "text/x-python",
   "name": "python",
   "nbconvert_exporter": "python",
   "pygments_lexer": "ipython3",
   "version": "3.13.1"
  }
 },
 "nbformat": 4,
 "nbformat_minor": 5
}

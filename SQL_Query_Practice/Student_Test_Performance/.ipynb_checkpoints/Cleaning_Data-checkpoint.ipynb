{
 "cells": [
  {
   "cell_type": "code",
   "execution_count": 1,
   "id": "adbec5a8-8a6c-46ab-8ca6-1788e4ae7cc7",
   "metadata": {},
   "outputs": [],
   "source": [
    "import os\n",
    "%load_ext autoreload\n",
    "%autoreload 2\n",
    "import pandas as pd\n",
    "import pyspark\n",
    "import pyarrow\n",
    "from pyspark.sql import SparkSession\n",
    "from pyspark.sql.functions import *\n",
    "\n",
    "os.environ['SPARK_HOME'] = 'C:/Users/saul2/Spark_DF/spark-3.5.5-bin-hadoop3'\n",
    "os.environ['HADOOP_HOME'] = 'C:/Users/saul2/Spark_DF/spark-3.5.5-bin-hadoop3'\n",
    "os.environ['JAVA_HOME'] = 'C:/Program Files/Java/jdk1.8.0_202'"
   ]
  },
  {
   "cell_type": "code",
   "execution_count": 5,
   "id": "7638ee1d-195d-43d2-9b54-b50fe985d21f",
   "metadata": {},
   "outputs": [],
   "source": [
    "spark = SparkSession.builder.appName(\"Practice\").getOrCreate()"
   ]
  },
  {
   "cell_type": "code",
   "execution_count": 11,
   "id": "6cff066f-b3e8-476c-b0ae-0e4a671607df",
   "metadata": {},
   "outputs": [
    {
     "name": "stdout",
     "output_type": "stream",
     "text": [
      "+------+--------------+---------------------------+------------+-----------------------+----------+-------------+-------------+\n",
      "|gender|race/ethnicity|parental level of education|       lunch|test preparation course|math score|reading score|writing score|\n",
      "+------+--------------+---------------------------+------------+-----------------------+----------+-------------+-------------+\n",
      "|female|       group B|          bachelor's degree|    standard|                   none|        72|           72|           74|\n",
      "|female|       group C|               some college|    standard|              completed|        69|           90|           88|\n",
      "|female|       group B|            master's degree|    standard|                   none|        90|           95|           93|\n",
      "|  male|       group A|         associate's degree|free/reduced|                   none|        47|           57|           44|\n",
      "|  male|       group C|               some college|    standard|                   none|        76|           78|           75|\n",
      "|female|       group B|         associate's degree|    standard|                   none|        71|           83|           78|\n",
      "|female|       group B|               some college|    standard|              completed|        88|           95|           92|\n",
      "|  male|       group B|               some college|free/reduced|                   none|        40|           43|           39|\n",
      "|  male|       group D|                high school|free/reduced|              completed|        64|           64|           67|\n",
      "|female|       group B|                high school|free/reduced|                   none|        38|           60|           50|\n",
      "|  male|       group C|         associate's degree|    standard|                   none|        58|           54|           52|\n",
      "|  male|       group D|         associate's degree|    standard|                   none|        40|           52|           43|\n",
      "|female|       group B|                high school|    standard|                   none|        65|           81|           73|\n",
      "|  male|       group A|               some college|    standard|              completed|        78|           72|           70|\n",
      "|female|       group A|            master's degree|    standard|                   none|        50|           53|           58|\n",
      "|female|       group C|           some high school|    standard|                   none|        69|           75|           78|\n",
      "|  male|       group C|                high school|    standard|                   none|        88|           89|           86|\n",
      "|female|       group B|           some high school|free/reduced|                   none|        18|           32|           28|\n",
      "|  male|       group C|            master's degree|free/reduced|              completed|        46|           42|           46|\n",
      "|female|       group C|         associate's degree|free/reduced|                   none|        54|           58|           61|\n",
      "+------+--------------+---------------------------+------------+-----------------------+----------+-------------+-------------+\n",
      "only showing top 20 rows\n",
      "\n"
     ]
    }
   ],
   "source": [
    "#csv_file = 'Students_Grading_Dataset.csv'\n",
    "csv_file = 'C:/Users/saul2/OneDrive/Desktop/PastProjects/SQL_Query_Practice/Student_Test_Performance/StudentsPerformance.csv'\n",
    "df = spark.read.option(\"header\", True).csv(csv_file)\n",
    "df.createOrReplaceTempView(\"Students\")\n",
    "df.show()"
   ]
  },
  {
   "cell_type": "code",
   "execution_count": null,
   "id": "366daaf9-a5fa-40c8-8288-fc8bb9879204",
   "metadata": {},
   "outputs": [],
   "source": [
    "# Data Cleaing\n"
   ]
  }
 ],
 "metadata": {
  "kernelspec": {
   "display_name": "Python 3.13 (PySpark)",
   "language": "python",
   "name": "pyspark313"
  },
  "language_info": {
   "codemirror_mode": {
    "name": "ipython",
    "version": 3
   },
   "file_extension": ".py",
   "mimetype": "text/x-python",
   "name": "python",
   "nbconvert_exporter": "python",
   "pygments_lexer": "ipython3",
   "version": "3.13.1"
  }
 },
 "nbformat": 4,
 "nbformat_minor": 5
}

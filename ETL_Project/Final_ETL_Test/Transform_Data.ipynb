{
 "cells": [
  {
   "cell_type": "code",
   "execution_count": 151,
   "id": "c0c7b292-b143-4675-adfa-7f8741a2afcc",
   "metadata": {},
   "outputs": [
    {
     "name": "stdout",
     "output_type": "stream",
     "text": [
      "The autoreload extension is already loaded. To reload it, use:\n",
      "  %reload_ext autoreload\n"
     ]
    }
   ],
   "source": [
    "import os\n",
    "%load_ext autoreload\n",
    "%autoreload 2\n",
    "import pandas as pd\n",
    "import pyspark\n",
    "import json\n",
    "import pyarrow\n",
    "from pyspark.sql import SparkSession\n",
    "from pyspark.sql.utils import AnalysisException\n",
    "from pyspark.sql import Row\n",
    "from pyspark.sql.window import Window\n",
    "from py4j.protocol import Py4JJavaError\n",
    "from datetime import datetime, timedelta\n",
    "\n",
    "from pyspark.sql.functions import *\n",
    "from pyspark.sql.types import IntegerType, BooleanType\n",
    "\n",
    "os.environ['SPARK_HOME'] = 'C:/Users/saul2/Spark_DF/spark-3.5.5-bin-hadoop3'\n",
    "os.environ['HADOOP_HOME'] = 'C:/Users/saul2/Spark_DF/spark-3.5.5-bin-hadoop3'\n",
    "os.environ['JAVA_HOME'] = 'C:/Program Files/Java/jdk1.8.0_202'"
   ]
  },
  {
   "cell_type": "code",
   "execution_count": 3,
   "id": "bdea1827-ad44-45dc-90bb-1c710f339f6e",
   "metadata": {},
   "outputs": [],
   "source": [
    "spark = SparkSession.builder.appName(\"Weather_Session\").getOrCreate()"
   ]
  },
  {
   "cell_type": "code",
   "execution_count": 11,
   "id": "51c4a8e7-88d8-4c6d-b462-fe6df9b17654",
   "metadata": {},
   "outputs": [],
   "source": [
    "path = \"C:/Users/saul2/OneDrive/Desktop/PastProjects/ETL_Project/Final_ETL_Test/table_output/Cloud_Wind_Table.parquet\"\n",
    "try:\n",
    "    cloud_wind_df = spark.read.parquet(path)\n",
    "except AnalysisException  as e:\n",
    "    # Path does not exists\n",
    "    print(e)"
   ]
  },
  {
   "cell_type": "code",
   "execution_count": 13,
   "id": "974f871d-e98c-4d75-8523-d2771a4c0724",
   "metadata": {},
   "outputs": [],
   "source": [
    "path = \"C:/Users/saul2/OneDrive/Desktop/PastProjects/ETL_Project/Final_ETL_Test/table_output/Location_Table.parquet\"\n",
    "try:\n",
    "    location_df= spark.read.parquet(path)\n",
    "except AnalysisException  as e:\n",
    "    # Path does not exists\n",
    "    print(e)"
   ]
  },
  {
   "cell_type": "code",
   "execution_count": 15,
   "id": "e0bf4ab6-c075-43d4-8362-270c4d02dcad",
   "metadata": {},
   "outputs": [],
   "source": [
    "path = \"C:/Users/saul2/OneDrive/Desktop/PastProjects/ETL_Project/Final_ETL_Test/table_output/Sunrise_Sunset_Table.parquet\"\n",
    "try:\n",
    "    sunrise_sunset_df = spark.read.parquet(path)\n",
    "except AnalysisException  as e:\n",
    "    # Path does not exists\n",
    "    print(e)"
   ]
  },
  {
   "cell_type": "code",
   "execution_count": 17,
   "id": "33635ec7-a4a2-4912-8c01-f39df3aa5f59",
   "metadata": {},
   "outputs": [],
   "source": [
    "path = \"C:/Users/saul2/OneDrive/Desktop/PastProjects/ETL_Project/Final_ETL_Test/table_output/Temperature_Table.parquet\"\n",
    "try:\n",
    "    temperature_df = spark.read.parquet(path)\n",
    "except AnalysisException  as e:\n",
    "    # Path does not exists\n",
    "    print(e)"
   ]
  },
  {
   "cell_type": "code",
   "execution_count": 19,
   "id": "9b23ab0d-5c2c-4f93-9c38-c6ac618777a0",
   "metadata": {},
   "outputs": [],
   "source": [
    "path = \"C:/Users/saul2/OneDrive/Desktop/PastProjects/ETL_Project/Final_ETL_Test/table_output/Weather_Description_Table.parquet\"\n",
    "try:\n",
    "    weather_description_df = spark.read.parquet(path)\n",
    "except AnalysisException  as e:\n",
    "    # Path does not exists\n",
    "    print(e)"
   ]
  },
  {
   "cell_type": "code",
   "execution_count": 127,
   "id": "f028e39e-d8f7-41ba-ab6e-9ac529f047fb",
   "metadata": {},
   "outputs": [
    {
     "name": "stdout",
     "output_type": "stream",
     "text": [
      "2025_05_18_15_10_28\n"
     ]
    }
   ],
   "source": [
    "timestamp = datetime.now().strftime(\"%Y_%m_%d_%H_%M_%S\")\n",
    "print(timestamp)\n",
    "output_dir = f\"table_results_{timestamp}\"\n",
    "if not os.path.exists(output_dir):\n",
    "    os.makedirs(output_dir)"
   ]
  },
  {
   "cell_type": "code",
   "execution_count": 31,
   "id": "7222834a-1f06-470a-9218-f82dcfd95aad",
   "metadata": {},
   "outputs": [
    {
     "name": "stdout",
     "output_type": "stream",
     "text": [
      "cloud_wind_df\n",
      "+-------+---------------------+---------------------+----------+----------+\n",
      "|City_ID|Cloudiness_Percentage|Wind_Direction_Degree|Gust_Speed|Wind_Speed|\n",
      "+-------+---------------------+---------------------+----------+----------+\n",
      "|  98182|                   12|                  339|     14.65|      7.05|\n",
      "| 108410|                    0|                  327|      5.83|      4.33|\n",
      "| 112931|                    0|                   68|      1.53|      1.59|\n",
      "| 184745|                   53|                   77|      1.01|      0.37|\n",
      "| 264371|                    0|                  306|      6.71|      4.02|\n",
      "+-------+---------------------+---------------------+----------+----------+\n",
      "only showing top 5 rows\n",
      "\n",
      "location_df\n",
      "+------+-------+-------+--------+---------+\n",
      "|    ID|   City|Country|Latitude|Longitude|\n",
      "+------+-------+-------+--------+---------+\n",
      "| 98182|Baghdad|     IQ| 33.3406|  44.4009|\n",
      "|108410| Riyadh|     SA| 24.6877|  46.7219|\n",
      "|112931| Tehran|     IR| 35.6944|  51.4215|\n",
      "|184745|Nairobi|     KE| -1.2833|  36.8167|\n",
      "|264371| Athens|     GR| 37.9795|  23.7162|\n",
      "+------+-------+-------+--------+---------+\n",
      "only showing top 5 rows\n",
      "\n",
      "sunrise_sunset_df\n",
      "+-------+----------+----------+--------+\n",
      "|City_ID|   Sunrise|    Sunset|Timezone|\n",
      "+-------+----------+----------+--------+\n",
      "|  98182|1747533631|1747583843|   10800|\n",
      "| 108410|1747534087|1747582272|   10800|\n",
      "| 112931|1747531633|1747582471|   12600|\n",
      "| 184745|1747538855|1747582259|   10800|\n",
      "| 264371|1747537953|1747589450|   10800|\n",
      "+-------+----------+----------+--------+\n",
      "only showing top 5 rows\n",
      "\n",
      "temperature_df\n",
      "+-------+-----+--------+--------+----------+--------+--------+---------+\n",
      "|City_ID| Temp|Temp_Max|Temp_Min|Feels_Like|Humidity|Pressure|Sea_Level|\n",
      "+-------+-----+--------+--------+----------+--------+--------+---------+\n",
      "|  98182|29.38|   29.38|   29.38|     27.78|      21|    1010|     1010|\n",
      "| 108410|25.58|   25.58|   25.58|     24.61|      16|    1012|     1012|\n",
      "| 112931|24.04|   24.04|   24.04|     22.84|      13|    1015|     1015|\n",
      "| 184745|14.68|   14.68|   14.68|     14.71|      96|    1015|     1015|\n",
      "| 264371|18.56|   19.25|   17.08|     18.17|      65|    1015|     1015|\n",
      "+-------+-----+--------+--------+----------+--------+--------+---------+\n",
      "only showing top 5 rows\n",
      "\n",
      "weather_description_df\n",
      "+-------+------------+-------------+----+\n",
      "|City_ID|Main_Weather|  Description|Icon|\n",
      "+-------+------------+-------------+----+\n",
      "|  98182|      Clouds|   few clouds| 02n|\n",
      "| 108410|       Clear|    clear sky| 01n|\n",
      "| 112931|       Clear|    clear sky| 01n|\n",
      "| 184745|      Clouds|broken clouds| 04n|\n",
      "| 264371|       Clear|    clear sky| 01n|\n",
      "+-------+------------+-------------+----+\n",
      "only showing top 5 rows\n",
      "\n"
     ]
    }
   ],
   "source": [
    "print(\"cloud_wind_df\")\n",
    "cloud_wind_df.show(5)\n",
    "print(\"location_df\")\n",
    "location_df.show(5)\n",
    "print(\"sunrise_sunset_df\")\n",
    "sunrise_sunset_df.show(5)\n",
    "print(\"temperature_df\")\n",
    "temperature_df.show(5)\n",
    "print(\"weather_description_df\")\n",
    "weather_description_df.show(5)"
   ]
  },
  {
   "cell_type": "code",
   "execution_count": 167,
   "id": "a2b792c8-c899-4122-bf70-68df3dbce867",
   "metadata": {},
   "outputs": [
    {
     "name": "stdout",
     "output_type": "stream",
     "text": [
      "+-------+----------+-------+--------+--------+--------------+--------+\n",
      "|     ID|      City|Country| Sunrise|  Sunset|Daylight_Hours|Timezone|\n",
      "+-------+----------+-------+--------+--------+--------------+--------+\n",
      "|3413829| Reykjavik|     IS|21:02:45|15:45:31|         18.71|       0|\n",
      "| 658225|  Helsinki|     FI|21:34:19|14:59:18|         17.42|   10800|\n",
      "|3143244|      Oslo|     NO|21:32:59|14:54:09|         17.35|    7200|\n",
      "|2673730| Stockholm|     SE|21:08:06|14:20:29|         17.21|    7200|\n",
      "| 524901|    Moscow|     RU|21:12:47|13:39:24|         16.44|   10800|\n",
      "|2618425|Copenhagen|     DK|21:53:17|14:19:18|         16.43|    7200|\n",
      "|2964574|    Dublin|     IE|22:20:32|14:22:43|         16.04|    3600|\n",
      "|2950159|    Berlin|     DE|22:05:44|14:00:05|         15.91|    7200|\n",
      "|2759794| Amsterdam|     NL|22:40:28|14:33:32|         15.88|    7200|\n",
      "| 756135|    Warsaw|     PL|21:36:41|13:28:19|         15.86|    7200|\n",
      "+-------+----------+-------+--------+--------+--------------+--------+\n",
      "\n",
      "+-------+----------+-------+--------+--------+--------------+--------+----+\n",
      "|     ID|      CITY|COUNTRY| SUNRISE|  SUNSET|DAYLIGHT_HOURS|TIMEZONE|RANK|\n",
      "+-------+----------+-------+--------+--------+--------------+--------+----+\n",
      "|3413829| Reykjavik|     IS|21:02:45|15:45:31|         18.71|       0|   1|\n",
      "| 658225|  Helsinki|     FI|21:34:19|14:59:18|         17.42|   10800|   2|\n",
      "|3143244|      Oslo|     NO|21:32:59|14:54:09|         17.35|    7200|   3|\n",
      "|2673730| Stockholm|     SE|21:08:06|14:20:29|         17.21|    7200|   4|\n",
      "| 524901|    Moscow|     RU|21:12:47|13:39:24|         16.44|   10800|   5|\n",
      "|2618425|Copenhagen|     DK|21:53:17|14:19:18|         16.43|    7200|   6|\n",
      "|2964574|    Dublin|     IE|22:20:32|14:22:43|         16.04|    3600|   7|\n",
      "|2950159|    Berlin|     DE|22:05:44|14:00:05|         15.91|    7200|   8|\n",
      "|2759794| Amsterdam|     NL|22:40:28|14:33:32|         15.88|    7200|   9|\n",
      "| 756135|    Warsaw|     PL|21:36:41|13:28:19|         15.86|    7200|  10|\n",
      "+-------+----------+-------+--------+--------+--------------+--------+----+\n",
      "\n"
     ]
    }
   ],
   "source": [
    "# Which cities have the longest daylight duration?\n",
    "# Convert the time into readable time. Order by daylight hour\n",
    "top_10_cities = sunrise_sunset_df.select(\n",
    "    col(\"City_ID\"), \n",
    "    date_format(from_unixtime(col(\"Sunrise\") + col(\"Timezone\")),\"HH:mm:ss\").alias(\"Sunrise\"),\n",
    "    date_format(from_unixtime(col(\"Sunset\") + col(\"Timezone\")),\"HH:mm:ss\").alias(\"Sunset\"), \n",
    "    round(((col(\"Sunset\") - col(\"Sunrise\")) / 3600),2).alias(\"Daylight_Hours\"),\n",
    "    col(\"Timezone\")).orderBy(col(\"Daylight_Hours\").desc()).limit(10)\n",
    "\n",
    "final_table = top_10_cities.join(location_df, top_10_cities[\"City_ID\"] == location_df[\"ID\"]\n",
    "                ).select(location_df[\"ID\"], \n",
    "                         location_df[\"City\"], \n",
    "                         location_df[\"Country\"], \n",
    "                         top_10_cities[\"Sunrise\"], \n",
    "                         top_10_cities[\"Sunset\"], \n",
    "                         top_10_cities[\"Daylight_Hours\"], \n",
    "                         top_10_cities[\"Timezone\"]\n",
    "                ).orderBy(col(\"Daylight_Hours\").desc())\n",
    "final_table.show()\n",
    "\n",
    "final_table.createOrReplaceTempView(\"Final_Table\")\n",
    "\n",
    "query = '''\n",
    "        SELECT ID, CITY, COUNTRY, SUNRISE, SUNSET, DAYLIGHT_HOURS, TIMEZONE, RANK()OVER(ORDER BY DAYLIGHT_HOURS DESC) RANK\n",
    "        FROM FINAL_TABLE\n",
    "    '''\n",
    "result = spark.sql(query)\n",
    "result.show()\n",
    "\n",
    "pandas_df = result.toPandas()\n",
    "#pandas_df = final_table.toPandas()\n",
    "path = os.path.join(output_dir, 'Longest_Daylight_Table.parquet')\n",
    "pandas_df.to_parquet(path, engine='pyarrow') \n",
    "path = os.path.join(output_dir, 'Longest_Daylight_Table.csv')\n",
    "pandas_df.to_csv(path, index=False)"
   ]
  },
  {
   "cell_type": "code",
   "execution_count": 177,
   "id": "15a51908-5ffb-402e-9109-6e6ab5a3c915",
   "metadata": {},
   "outputs": [
    {
     "name": "stdout",
     "output_type": "stream",
     "text": [
      "+-------+---------+-------+-----+----------+----------+----+\n",
      "|CITY_ID|     CITY|COUNTRY| TEMP|FEELS_LIKE|DIFFERENCE|RANK|\n",
      "+-------+---------+-------+-----+----------+----------+----+\n",
      "|1609350|  Bangkok|     TH|30.51|     37.51|       7.0|   1|\n",
      "|1701668|   Manila|     PH|32.69|     39.69|       7.0|   1|\n",
      "|1880252|Singapore|     SG|31.07|     38.07|       7.0|   1|\n",
      "|1642911|  Jakarta|     ID|29.67|     34.03|      4.36|   4|\n",
      "|1275339|   Mumbai|     IN|28.89|     32.49|       3.6|   5|\n",
      "| 658225| Helsinki|     FI|  8.0|      4.61|      3.39|   6|\n",
      "|1581130|    Hanoi|     VN|27.33|     30.26|      2.93|   7|\n",
      "|2673730|Stockholm|     SE| 4.88|      2.17|      2.71|   8|\n",
      "|5856195| Honolulu|     US|27.38|     30.04|      2.66|   9|\n",
      "|3067696|   Prague|     CZ| 7.29|      4.66|      2.63|  10|\n",
      "+-------+---------+-------+-----+----------+----------+----+\n",
      "\n"
     ]
    }
   ],
   "source": [
    "# Which city has the highest difference between actual temperature and feels-like temperature?\n",
    "# temperature_df\n",
    "top_10_cities = temperature_df.select(\n",
    "    col(\"City_ID\"), \n",
    "    col(\"Temp\"), \n",
    "    col(\"Feels_Like\"), \n",
    "    round(abs(col(\"Temp\") - col(\"Feels_Like\")),2).alias(\"Difference\")\n",
    "        ).orderBy(col(\"Difference\").desc()).limit(10)\n",
    "#top_10_cities.show()\n",
    "\n",
    "final_top_10_cities_temperature = top_10_cities.join(location_df, top_10_cities[\"City_ID\"] == location_df[\"ID\"]).select(\n",
    "    top_10_cities[\"City_ID\"], \n",
    "    location_df[\"City\"], \n",
    "    location_df[\"Country\"], \n",
    "    top_10_cities[\"Temp\"], \n",
    "    top_10_cities[\"Feels_Like\"], \n",
    "    top_10_cities[\"Difference\"]\n",
    "        ).orderBy(col(\"Difference\").desc())\n",
    "#final_top_10_cities_temperature.show()\n",
    "\n",
    "final_top_10_cities_temperature.createOrReplaceTempView(\"Final_Table\")\n",
    "\n",
    "query = '''\n",
    "        SELECT CITY_ID, CITY, COUNTRY, TEMP, FEELS_LIKE, DIFFERENCE, RANK()OVER(ORDER BY DIFFERENCE DESC) RANK\n",
    "        FROM FINAL_TABLE\n",
    "    '''\n",
    "\n",
    "final_result = spark.sql(query)\n",
    "\n",
    "final_result.show()\n",
    "pandas_df = final_result.toPandas()\n",
    "path = os.path.join(output_dir, 'Temperature_Difference_Table.parquet')\n",
    "pandas_df.to_parquet(path, engine='pyarrow') \n",
    "path = os.path.join(output_dir, 'Temperature_Difference_Table.csv')\n",
    "pandas_df.to_csv(path, index=False)"
   ]
  },
  {
   "cell_type": "code",
   "execution_count": null,
   "id": "80a08b96-2a5d-4026-b738-eed0e79f47e3",
   "metadata": {},
   "outputs": [],
   "source": [
    "# Upload information to Cloud Service"
   ]
  }
 ],
 "metadata": {
  "kernelspec": {
   "display_name": "Python 3.13 (PySpark)",
   "language": "python",
   "name": "pyspark313"
  },
  "language_info": {
   "codemirror_mode": {
    "name": "ipython",
    "version": 3
   },
   "file_extension": ".py",
   "mimetype": "text/x-python",
   "name": "python",
   "nbconvert_exporter": "python",
   "pygments_lexer": "ipython3",
   "version": "3.13.1"
  }
 },
 "nbformat": 4,
 "nbformat_minor": 5
}

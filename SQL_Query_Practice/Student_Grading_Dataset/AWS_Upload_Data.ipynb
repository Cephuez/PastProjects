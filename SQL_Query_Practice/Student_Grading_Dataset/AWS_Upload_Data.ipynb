{
 "cells": [
  {
   "cell_type": "code",
   "execution_count": 3,
   "id": "4a699a71-c533-4660-9251-9e1cc6384246",
   "metadata": {},
   "outputs": [],
   "source": [
    "import boto3\n",
    "import os"
   ]
  },
  {
   "cell_type": "code",
   "execution_count": 5,
   "id": "859b5718-ba8b-41a3-bff5-fc13196f0b09",
   "metadata": {},
   "outputs": [
    {
     "name": "stdout",
     "output_type": "stream",
     "text": [
      "Current Working Directory: C:\\Users\\saul2\\OneDrive\\Desktop\\PastProjects\\SQL_Query_Practice\\Student_Grading_Dataset\n"
     ]
    }
   ],
   "source": [
    "print(\"Current Working Directory:\", os.getcwd())"
   ]
  },
  {
   "cell_type": "code",
   "execution_count": 29,
   "id": "fec85b62-8478-43f2-80e8-23bb0b6d8694",
   "metadata": {},
   "outputs": [],
   "source": [
    " s3 = boto3.client('s3', region_name='us-west-1')\n",
    "bucket_name = 'project-cloud-saul2-00000001-test'\n",
    "file_name = 'results\\\\Top_Five_Total_Score.csv'\n",
    "object_name = 'Top_Five_Total_Score.csv'"
   ]
  },
  {
   "cell_type": "code",
   "execution_count": 25,
   "id": "cce95845-af28-46f0-bdde-26eaddb72534",
   "metadata": {},
   "outputs": [],
   "source": [
    "folder_name = 'Student_Grading_Dataset_Results/'"
   ]
  },
  {
   "cell_type": "code",
   "execution_count": 13,
   "id": "fb87bb6e-312f-43f6-8ffa-8f1f369e330e",
   "metadata": {},
   "outputs": [
    {
     "name": "stdout",
     "output_type": "stream",
     "text": [
      "File 'results\\Top_Five_Total_Score.csv' has been uploaded to 'project-cloud-saul2-00000001-test/Top_Five_Total_Score.csv'.\n"
     ]
    }
   ],
   "source": [
    "try:\n",
    "    s3.upload_file(file_name, bucket_name, object_name)\n",
    "    print(f\"File '{file_name}' has been uploaded to '{bucket_name}/{object_name}'.\")\n",
    "except Exception as e:\n",
    "    print(\"Error occurred while uploading:\", e)"
   ]
  },
  {
   "cell_type": "code",
   "execution_count": 35,
   "id": "6911c00f-0511-4fc0-80fe-9b0883a80433",
   "metadata": {},
   "outputs": [
    {
     "name": "stdout",
     "output_type": "stream",
     "text": [
      "File student_results.csv has been uploaded to Student_Grading_Dataset_Results/student_results.csv\n",
      "File student_results.parquet has been uploaded to Student_Grading_Dataset_Results/student_results.parquet\n",
      "File Top_Five_Total_Score.csv has been uploaded to Student_Grading_Dataset_Results/Top_Five_Total_Score.csv\n"
     ]
    }
   ],
   "source": [
    "for filename in os.listdir('results'):\n",
    "    local_file_path = os.path.join('results',filename)\n",
    "\n",
    "    s3_file_path = folder_name + filename\n",
    "    #print(local_file_path)\n",
    "    #print(s3_file_path)\n",
    "    try:\n",
    "        # Upload  file to S3\n",
    "        s3.upload_file(local_file_path, bucket_name, s3_file_path)\n",
    "        print(f\"File {filename} has been uploaded to {s3_file_path}\")\n",
    "    except Exception as e:\n",
    "        print(f\"Error uploading {filename}: {str(e)}\")\n",
    "    "
   ]
  },
  {
   "cell_type": "code",
   "execution_count": null,
   "id": "b1f25638-e573-44c7-87e6-900267910607",
   "metadata": {},
   "outputs": [],
   "source": []
  }
 ],
 "metadata": {
  "kernelspec": {
   "display_name": "Python 3.13 (with Kaggle)",
   "language": "python",
   "name": "py313"
  },
  "language_info": {
   "codemirror_mode": {
    "name": "ipython",
    "version": 3
   },
   "file_extension": ".py",
   "mimetype": "text/x-python",
   "name": "python",
   "nbconvert_exporter": "python",
   "pygments_lexer": "ipython3",
   "version": "3.13.1"
  }
 },
 "nbformat": 4,
 "nbformat_minor": 5
}

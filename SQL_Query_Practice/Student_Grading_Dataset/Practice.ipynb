{
 "cells": [
  {
   "cell_type": "code",
   "execution_count": 1,
   "id": "81ab4bb7-8ff3-49c0-8783-e3683cfa205d",
   "metadata": {},
   "outputs": [],
   "source": [
    "import os\n",
    "%load_ext autoreload\n",
    "%autoreload 2\n",
    "import pandas as pd\n",
    "import pyspark\n",
    "import pyarrow\n",
    "\n",
    "from pyspark.sql import SparkSession\n",
    "from pyspark.sql.functions import *"
   ]
  },
  {
   "cell_type": "code",
   "execution_count": 2,
   "id": "a73cb19f-c5ec-440e-91b4-da11d92c2565",
   "metadata": {},
   "outputs": [],
   "source": [
    "os.environ['SPARK_HOME'] = 'C:/Users/saul2/Spark_DF/spark-3.5.5-bin-hadoop3'\n",
    "os.environ['HADOOP_HOME'] = 'C:/Users/saul2/Spark_DF/spark-3.5.5-bin-hadoop3'\n",
    "os.environ['JAVA_HOME'] = 'C:/Program Files/Java/jdk1.8.0_202'"
   ]
  },
  {
   "cell_type": "code",
   "execution_count": 5,
   "id": "879f2598-b179-4413-b906-964b2a3e07d4",
   "metadata": {},
   "outputs": [],
   "source": [
    "#spark = SparkSession.builder.appName(\"Practice\").\\\n",
    "#    .config(\"spark.hadoop.fs.file.impl\", \"org.apache.hadoop.fs.LocalFileSystem\") \\\n",
    "#    .config(\"spark.hadoop.hadoop.native.io\", \"false\").getOrCreate()\n",
    "spark = SparkSession.builder.appName(\"Practice\").getOrCreate()"
   ]
  },
  {
   "cell_type": "code",
   "execution_count": 6,
   "id": "4e3ee73f-911d-4ea3-8606-ee8e1c4358af",
   "metadata": {},
   "outputs": [],
   "source": [
    "csv_file = 'Students_Grading_Dataset.csv'\n",
    "df = spark.read.option(\"header\", True).csv(csv_file)\n",
    "df.createOrReplaceTempView(\"Students\")"
   ]
  },
  {
   "cell_type": "code",
   "execution_count": 7,
   "id": "eba66088-11b6-4f48-920b-439b38b61874",
   "metadata": {},
   "outputs": [],
   "source": [
    "# Show Column Names\n",
    "query = 'DESC STUDENTS'\n",
    "result = spark.sql(query)\n",
    "#result.show()"
   ]
  },
  {
   "cell_type": "code",
   "execution_count": 8,
   "id": "6a85ad15-efa1-4a8e-8785-c15ad287213a",
   "metadata": {},
   "outputs": [],
   "source": [
    "# Students Older than 21\n",
    "query = \"SELECT * FROM STUDENTS WHERE AGE > 21\"\n",
    "result = spark.sql(query)\n",
    "#result.show()"
   ]
  },
  {
   "cell_type": "code",
   "execution_count": 9,
   "id": "434ff6e5-2504-4ae2-8b4f-b31d7b434680",
   "metadata": {},
   "outputs": [
    {
     "name": "stdout",
     "output_type": "stream",
     "text": [
      "+----------+----------+----------+---------+-----------+---------+\n",
      "|DEPARTMENT|STUDENT_ID|FIRST_NAME|LAST_NAME|TOTAL_SCORE|AVG_SCORE|\n",
      "+----------+----------+----------+---------+-----------+---------+\n",
      "|  Business|     S1001|     Maria|    Brown|      92.29|     74.0|\n",
      "|  Business|     S1006|     Ahmed|    Jones|      79.78|     74.0|\n",
      "|  Business|     S1010|      John|    Smith|      74.52|     74.0|\n",
      "|  Business|     S1013|      John| Williams|       74.8|     74.0|\n",
      "|  Business|     S1016|     Maria|    Jones|      78.95|     74.0|\n",
      "|  Business|     S1022|      Sara|    Davis|      87.98|     74.0|\n",
      "|  Business|     S1026|      Emma|  Johnson|      89.76|     74.0|\n",
      "|  Business|     S1030|     Ahmed|    Brown|      74.94|     74.0|\n",
      "|  Business|     S1038|       Ali| Williams|      76.22|     74.0|\n",
      "|  Business|     S1040|      John|  Johnson|       90.3|     74.0|\n",
      "|  Business|     S1044|     Maria|    Smith|      88.66|     74.0|\n",
      "|  Business|     S1053|     Maria|    Smith|      77.51|     74.0|\n",
      "|  Business|     S1059|     Ahmed|  Johnson|      79.61|     74.0|\n",
      "|  Business|     S1067|       Ali| Williams|      98.48|     74.0|\n",
      "|  Business|     S1072|       Ali|  Johnson|      79.29|     74.0|\n",
      "|  Business|     S1075|      Sara| Williams|      86.38|     74.0|\n",
      "|  Business|     S1082|     Ahmed|    Brown|      94.39|     74.0|\n",
      "|  Business|     S1084|      Omar|    Brown|      97.39|     74.0|\n",
      "|  Business|     S1091|     Maria| Williams|      92.68|     74.0|\n",
      "|  Business|     S1105|      Sara| Williams|      97.77|     74.0|\n",
      "+----------+----------+----------+---------+-----------+---------+\n",
      "only showing top 20 rows\n",
      "\n"
     ]
    }
   ],
   "source": [
    "# Students with a total_score higher than their department_avg\n",
    "query = '''\n",
    "    WITH DEPT_AVG AS (\n",
    "        SELECT DEPARTMENT, ROUND(AVG(TOTAL_SCORE),2) AVG_SCORE\n",
    "        FROM STUDENTS \n",
    "        GROUP BY DEPARTMENT\n",
    "    )\n",
    "    SELECT STUDENTS.DEPARTMENT, STUDENT_ID, FIRST_NAME, LAST_NAME, TOTAL_SCORE, DEPT_AVG.AVG_SCORE\n",
    "    FROM STUDENTS, DEPT_AVG\n",
    "    WHERE STUDENTS.DEPARTMENT = DEPT_AVG.DEPARTMENT\n",
    "        AND STUDENTS.TOTAL_SCORE > DEPT_AVG.AVG_SCORE\n",
    "    ORDER BY STUDENTS.DEPARTMENT, STUDENT_ID\n",
    "    '''\n",
    "result = spark.sql(query)\n",
    "result.show()"
   ]
  },
  {
   "cell_type": "code",
   "execution_count": 10,
   "id": "5d1038ba-becb-4257-8e4f-194bb21e57a4",
   "metadata": {},
   "outputs": [],
   "source": [
    "#result.write.mode(\"overwrite\").saveAsTable(\"student_results_table\")\n",
    "#result.write.mode(\"overwrite\").parquet(\"output/student_results.parquet\")\n",
    "#result.coalesce(1).write.mode(\"overwrite\").parquet(\"output/student_results.parquet\")\n",
    "#result.write.mode(\"overwrite\").csv(\"output/student_results_csv\", header=True)\n",
    "#result.write.mode(\"overwrite\").csv(\"C:/output/student_results_csv\", header=True)\n",
    "#result.write.format(\"parquet\").save(\"file:///C:/Users/saul2/OneDrive/Desktop/PastProjects/SQL_Query_Practice/Student_Grading_Dataset/sdd\")"
   ]
  },
  {
   "cell_type": "code",
   "execution_count": 15,
   "id": "d65b5318-141d-4ccb-a756-e1284fc9dbc4",
   "metadata": {},
   "outputs": [],
   "source": [
    "# Make a directory for my files\n",
    "output_dir = 'results'\n",
    "if not os.path.exists(output_dir):\n",
    "    os.makedirs(output_dir)"
   ]
  },
  {
   "cell_type": "code",
   "execution_count": 17,
   "id": "cc9c4039-da04-45e1-a2f4-cf64ac4b5745",
   "metadata": {},
   "outputs": [],
   "source": [
    "# Conver my result to a Pandas Dataframe. PySpark is not working well to conver it into a parquet/csv file.\n",
    "pandas_df = result.toPandas()\n",
    "path = os.path.join(output_dir, 'student_results.parquet')\n",
    "pandas_df.to_parquet(path, engine='pyarrow') \n",
    "path = os.path.join(output_dir, 'student_results.csv')\n",
    "pandas_df.to_csv(path, index=False)"
   ]
  },
  {
   "cell_type": "code",
   "execution_count": 19,
   "id": "75e778f6-213b-484e-b6e4-e3c686776791",
   "metadata": {},
   "outputs": [
    {
     "name": "stdout",
     "output_type": "stream",
     "text": [
      "+--------+\n",
      "|count(1)|\n",
      "+--------+\n",
      "|    5000|\n",
      "+--------+\n",
      "\n"
     ]
    }
   ],
   "source": [
    "query = '''\n",
    "    SELECT COUNT(*)\n",
    "    FROM STUDENTS \n",
    "    '''\n",
    "result = spark.sql(query)\n",
    "result.show()"
   ]
  },
  {
   "cell_type": "code",
   "execution_count": null,
   "id": "3223f78a-20a9-4caf-b8df-82f87aa8c782",
   "metadata": {},
   "outputs": [],
   "source": []
  }
 ],
 "metadata": {
  "kernelspec": {
   "display_name": "Python 3.13 (with Kaggle)",
   "language": "python",
   "name": "py313"
  },
  "language_info": {
   "codemirror_mode": {
    "name": "ipython",
    "version": 3
   },
   "file_extension": ".py",
   "mimetype": "text/x-python",
   "name": "python",
   "nbconvert_exporter": "python",
   "pygments_lexer": "ipython3",
   "version": "3.13.1"
  }
 },
 "nbformat": 4,
 "nbformat_minor": 5
}

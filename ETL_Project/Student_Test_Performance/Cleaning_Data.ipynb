{
 "cells": [
  {
   "cell_type": "code",
   "execution_count": 57,
   "id": "adbec5a8-8a6c-46ab-8ca6-1788e4ae7cc7",
   "metadata": {},
   "outputs": [
    {
     "name": "stdout",
     "output_type": "stream",
     "text": [
      "The autoreload extension is already loaded. To reload it, use:\n",
      "  %reload_ext autoreload\n"
     ]
    }
   ],
   "source": [
    "import os\n",
    "%load_ext autoreload\n",
    "%autoreload 2\n",
    "import pandas as pd\n",
    "import pyspark\n",
    "import json\n",
    "import pyarrow\n",
    "from pyspark.sql import SparkSession\n",
    "from pyspark.sql.functions import *\n",
    "from pyspark.sql.types import IntegerType\n",
    "\n",
    "os.environ['SPARK_HOME'] = 'C:/Users/saul2/Spark_DF/spark-3.5.5-bin-hadoop3'\n",
    "os.environ['HADOOP_HOME'] = 'C:/Users/saul2/Spark_DF/spark-3.5.5-bin-hadoop3'\n",
    "os.environ['JAVA_HOME'] = 'C:/Program Files/Java/jdk1.8.0_202'"
   ]
  },
  {
   "cell_type": "code",
   "execution_count": 2,
   "id": "7638ee1d-195d-43d2-9b54-b50fe985d21f",
   "metadata": {},
   "outputs": [],
   "source": [
    "spark = SparkSession.builder.appName(\"Practice\").getOrCreate()"
   ]
  },
  {
   "cell_type": "code",
   "execution_count": 163,
   "id": "6cff066f-b3e8-476c-b0ae-0e4a671607df",
   "metadata": {},
   "outputs": [],
   "source": [
    "#csv_file = 'Students_Grading_Dataset.csv'\n",
    "csv_file = 'C:/Users/saul2/OneDrive/Desktop/PastProjects/SQL_Query_Practice/Student_Test_Performance/StudentsPerformance.csv'\n",
    "df = spark.read.option(\"header\", True).csv(csv_file)\n",
    "df.createOrReplaceTempView(\"Students\")"
   ]
  },
  {
   "cell_type": "code",
   "execution_count": 165,
   "id": "366daaf9-a5fa-40c8-8288-fc8bb9879204",
   "metadata": {},
   "outputs": [
    {
     "name": "stdout",
     "output_type": "stream",
     "text": [
      "+------+--------------+---------------------------+------------+-----------------------+----------+-------------+-------------+\n",
      "|gender|race/ethnicity|parental level of education|       lunch|test preparation course|math score|reading score|writing score|\n",
      "+------+--------------+---------------------------+------------+-----------------------+----------+-------------+-------------+\n",
      "|female|       group B|          bachelor's degree|    standard|                   none|        72|           72|           74|\n",
      "|female|       group C|               some college|    standard|              completed|        69|           90|           88|\n",
      "|female|       group B|            master's degree|    standard|                   none|        90|           95|           93|\n",
      "|  male|       group A|         associate's degree|free/reduced|                   none|        47|           57|           44|\n",
      "|  male|       group C|               some college|    standard|                   none|        76|           78|           75|\n",
      "|female|       group B|         associate's degree|    standard|                   none|        71|           83|           78|\n",
      "|female|       group B|               some college|    standard|              completed|        88|           95|           92|\n",
      "|  male|       group B|               some college|free/reduced|                   none|        40|           43|           39|\n",
      "|  male|       group D|                high school|free/reduced|              completed|        64|           64|           67|\n",
      "|female|       group B|                high school|free/reduced|                   none|        38|           60|           50|\n",
      "|  male|       group C|         associate's degree|    standard|                   none|        58|           54|           52|\n",
      "|  male|       group D|         associate's degree|    standard|                   none|        40|           52|           43|\n",
      "|female|       group B|                high school|    standard|                   none|        65|           81|           73|\n",
      "|  male|       group A|               some college|    standard|              completed|        78|           72|           70|\n",
      "|female|       group A|            master's degree|    standard|                   none|        50|           53|           58|\n",
      "|female|       group C|           some high school|    standard|                   none|        69|           75|           78|\n",
      "|  male|       group C|                high school|    standard|                   none|        88|           89|           86|\n",
      "|female|       group B|           some high school|free/reduced|                   none|        18|           32|           28|\n",
      "|  male|       group C|            master's degree|free/reduced|              completed|        46|           42|           46|\n",
      "|female|       group C|         associate's degree|free/reduced|                   none|        54|           58|           61|\n",
      "+------+--------------+---------------------------+------------+-----------------------+----------+-------------+-------------+\n",
      "only showing top 20 rows\n",
      "\n"
     ]
    }
   ],
   "source": [
    "# Data Cleaing\n",
    "# Show current state of the table\n",
    "df.show()"
   ]
  },
  {
   "cell_type": "code",
   "execution_count": 167,
   "id": "62657c9b-9712-4773-9878-7d0c0290c5eb",
   "metadata": {},
   "outputs": [],
   "source": [
    "# Change type of columns\n",
    "#df = df.withColumn(\"math score\", col(\"math score\").cast(IntegerType()))\n",
    "#df = df.withColumn(\"reading score\", col(\"reading score\").cast(IntegerType()))\n",
    "#df = df.withColumn(\"writing score\", col(\"writing score\").cast(IntegerType()))\n",
    "\n",
    "# Checking if there are decimal values in the score columns\n",
    "# df.filter((col(\"math score\") % 1 != 0)).show()\n",
    "# df.filter((col(\"reading score\") % 1 != 0)).show()\n",
    "# df.filter((col(\"writing score\") % 1 != 0)).show()\n",
    "# I got no results, so I will now convert them to int type\n",
    "df = df.withColumn(\"math score\", col(\"math score\").cast(IntegerType()))\n",
    "df = df.withColumn(\"reading score\", col(\"reading score\").cast(IntegerType()))\n",
    "df = df.withColumn(\"writing score\", col(\"writing score\").cast(IntegerType()))\n",
    "#df.printSchema()"
   ]
  },
  {
   "cell_type": "code",
   "execution_count": 169,
   "id": "70465c9d-bba4-4a7b-bf31-8f6b3608143e",
   "metadata": {},
   "outputs": [
    {
     "name": "stdout",
     "output_type": "stream",
     "text": [
      "+------+--------------+---------------------------+-----+-----------------------+----------+-------------+-------------+\n",
      "|gender|race/ethnicity|parental level of education|lunch|test preparation course|math score|reading score|writing score|\n",
      "+------+--------------+---------------------------+-----+-----------------------+----------+-------------+-------------+\n",
      "+------+--------------+---------------------------+-----+-----------------------+----------+-------------+-------------+\n",
      "\n",
      "+------+--------------+---------------------------+-----+-----------------------+----------+-------------+-------------+\n",
      "|gender|race/ethnicity|parental level of education|lunch|test preparation course|math score|reading score|writing score|\n",
      "+------+--------------+---------------------------+-----+-----------------------+----------+-------------+-------------+\n",
      "+------+--------------+---------------------------+-----+-----------------------+----------+-------------+-------------+\n",
      "\n",
      "+------+--------------+---------------------------+-----+-----------------------+----------+-------------+-------------+\n",
      "|gender|race/ethnicity|parental level of education|lunch|test preparation course|math score|reading score|writing score|\n",
      "+------+--------------+---------------------------+-----+-----------------------+----------+-------------+-------------+\n",
      "+------+--------------+---------------------------+-----+-----------------------+----------+-------------+-------------+\n",
      "\n",
      "+------+--------------+---------------------------+-----+-----------------------+----------+-------------+-------------+\n",
      "|gender|race/ethnicity|parental level of education|lunch|test preparation course|math score|reading score|writing score|\n",
      "+------+--------------+---------------------------+-----+-----------------------+----------+-------------+-------------+\n",
      "+------+--------------+---------------------------+-----+-----------------------+----------+-------------+-------------+\n",
      "\n",
      "+------+--------------+---------------------------+-----+-----------------------+----------+-------------+-------------+\n",
      "|gender|race/ethnicity|parental level of education|lunch|test preparation course|math score|reading score|writing score|\n",
      "+------+--------------+---------------------------+-----+-----------------------+----------+-------------+-------------+\n",
      "+------+--------------+---------------------------+-----+-----------------------+----------+-------------+-------------+\n",
      "\n",
      "+------+--------------+---------------------------+-----+-----------------------+----------+-------------+-------------+\n",
      "|gender|race/ethnicity|parental level of education|lunch|test preparation course|math score|reading score|writing score|\n",
      "+------+--------------+---------------------------+-----+-----------------------+----------+-------------+-------------+\n",
      "+------+--------------+---------------------------+-----+-----------------------+----------+-------------+-------------+\n",
      "\n",
      "+------+--------------+---------------------------+-----+-----------------------+----------+-------------+-------------+\n",
      "|gender|race/ethnicity|parental level of education|lunch|test preparation course|math score|reading score|writing score|\n",
      "+------+--------------+---------------------------+-----+-----------------------+----------+-------------+-------------+\n",
      "+------+--------------+---------------------------+-----+-----------------------+----------+-------------+-------------+\n",
      "\n",
      "+------+--------------+---------------------------+-----+-----------------------+----------+-------------+-------------+\n",
      "|gender|race/ethnicity|parental level of education|lunch|test preparation course|math score|reading score|writing score|\n",
      "+------+--------------+---------------------------+-----+-----------------------+----------+-------------+-------------+\n",
      "+------+--------------+---------------------------+-----+-----------------------+----------+-------------+-------------+\n",
      "\n"
     ]
    }
   ],
   "source": [
    "# Check for any blanks or nulls in table\n",
    "for columns in df.columns:\n",
    "    df.filter(col(columns).isNull() | (trim(col(columns)) == \"\")).show()\n",
    "    \n",
    "# Result -- There aren't any on this file, so don't do anything\n",
    "#df.show()"
   ]
  },
  {
   "cell_type": "code",
   "execution_count": 171,
   "id": "1d895093-a0e4-45c2-8d5b-394db4db14b5",
   "metadata": {},
   "outputs": [],
   "source": [
    "# Before I start looping through each column, make sure to trim any extra spaces\n",
    "# Check Column Name Formatting\n",
    "# Remove any unnecessary space if there are any on the columns\n",
    "col_dict = {colName: colName.strip() for colName in df.columns}\n",
    "for old_cols, new_cols in col_dict.items():\n",
    "    df = df.withColumnRenamed(old_cols, new_cols)"
   ]
  },
  {
   "cell_type": "code",
   "execution_count": 173,
   "id": "51dac753-a896-4be4-b15e-d96db2b7db24",
   "metadata": {},
   "outputs": [],
   "source": [
    "# Begin Capitalizing the string words\n",
    "for column, column_type in df.dtypes:\n",
    "    if column_type == 'string':\n",
    "        df = df.withColumn(column, initcap(col(column)))\n",
    "# df.show()"
   ]
  },
  {
   "cell_type": "code",
   "execution_count": 183,
   "id": "d531ee6c-15fc-4df0-a7b4-8114759cb999",
   "metadata": {},
   "outputs": [
    {
     "name": "stdout",
     "output_type": "stream",
     "text": [
      "+------+\n",
      "|gender|\n",
      "+------+\n",
      "|Female|\n",
      "|Male  |\n",
      "+------+\n",
      "\n",
      "+--------------+\n",
      "|race/ethnicity|\n",
      "+--------------+\n",
      "|Group A       |\n",
      "|Group E       |\n",
      "|Group D       |\n",
      "|Group B       |\n",
      "|Group C       |\n",
      "+--------------+\n",
      "\n",
      "+---------------------------+\n",
      "|parental level of education|\n",
      "+---------------------------+\n",
      "|High School                |\n",
      "|Bachelors Degree           |\n",
      "|Some High School           |\n",
      "|Associates Degree          |\n",
      "|Masters Degree             |\n",
      "|Some College               |\n",
      "+---------------------------+\n",
      "\n",
      "+------------+\n",
      "|Lunch       |\n",
      "+------------+\n",
      "|Standard    |\n",
      "|Free/Reduced|\n",
      "+------------+\n",
      "\n",
      "+-----------------------+\n",
      "|test preparation course|\n",
      "+-----------------------+\n",
      "|None                   |\n",
      "|Completed              |\n",
      "+-----------------------+\n",
      "\n"
     ]
    }
   ],
   "source": [
    "# There seems to be a rare case scenario where '/' are being used \n",
    "# Loop through each column to see if there are special cases not shown currently\n",
    "for column, column_type in df.dtypes:\n",
    "    if column_type == 'string':\n",
    "        df.select(column).distinct().show(truncate = False)\n",
    "\n",
    "# Result\n",
    "# 1. 'Free/reduced' is the special case\n",
    "# 2. There seems to be apostrophes on Level of Educations"
   ]
  },
  {
   "cell_type": "code",
   "execution_count": 175,
   "id": "e41842c0-258b-4c8a-ad75-b751fd4cbe3b",
   "metadata": {},
   "outputs": [],
   "source": [
    "# Going to fix that with a functions\n",
    "# I will split the word into 2, use initcap, then attach them with '/'\n",
    "df = df.withColumn(\"Lunch\",\n",
    "                  concat_ws(\"/\", expr(\"transform(split(Lunch, '/') , x -> initcap(x))\")))"
   ]
  },
  {
   "cell_type": "code",
   "execution_count": 179,
   "id": "64eb667a-d9af-47fa-9a08-342b3ebaf12d",
   "metadata": {},
   "outputs": [],
   "source": [
    "# Will get rid of the apostrophres to make it more readable\n",
    "df = df.withColumn(\"parental level of education\", regexp_replace(\"parental level of education\", \"'\", \"\"))"
   ]
  },
  {
   "cell_type": "code",
   "execution_count": 181,
   "id": "c68bff5b-c3eb-4312-9c3f-2bee916b3311",
   "metadata": {},
   "outputs": [
    {
     "name": "stdout",
     "output_type": "stream",
     "text": [
      "+------+--------------+---------------------------+------------+-----------------------+----------+-------------+-------------+\n",
      "|gender|race/ethnicity|parental level of education|       Lunch|test preparation course|math score|reading score|writing score|\n",
      "+------+--------------+---------------------------+------------+-----------------------+----------+-------------+-------------+\n",
      "|Female|       Group B|           Bachelors Degree|    Standard|                   None|        72|           72|           74|\n",
      "|Female|       Group C|               Some College|    Standard|              Completed|        69|           90|           88|\n",
      "|Female|       Group B|             Masters Degree|    Standard|                   None|        90|           95|           93|\n",
      "|  Male|       Group A|          Associates Degree|Free/Reduced|                   None|        47|           57|           44|\n",
      "|  Male|       Group C|               Some College|    Standard|                   None|        76|           78|           75|\n",
      "|Female|       Group B|          Associates Degree|    Standard|                   None|        71|           83|           78|\n",
      "|Female|       Group B|               Some College|    Standard|              Completed|        88|           95|           92|\n",
      "|  Male|       Group B|               Some College|Free/Reduced|                   None|        40|           43|           39|\n",
      "|  Male|       Group D|                High School|Free/Reduced|              Completed|        64|           64|           67|\n",
      "|Female|       Group B|                High School|Free/Reduced|                   None|        38|           60|           50|\n",
      "|  Male|       Group C|          Associates Degree|    Standard|                   None|        58|           54|           52|\n",
      "|  Male|       Group D|          Associates Degree|    Standard|                   None|        40|           52|           43|\n",
      "|Female|       Group B|                High School|    Standard|                   None|        65|           81|           73|\n",
      "|  Male|       Group A|               Some College|    Standard|              Completed|        78|           72|           70|\n",
      "|Female|       Group A|             Masters Degree|    Standard|                   None|        50|           53|           58|\n",
      "|Female|       Group C|           Some High School|    Standard|                   None|        69|           75|           78|\n",
      "|  Male|       Group C|                High School|    Standard|                   None|        88|           89|           86|\n",
      "|Female|       Group B|           Some High School|Free/Reduced|                   None|        18|           32|           28|\n",
      "|  Male|       Group C|             Masters Degree|Free/Reduced|              Completed|        46|           42|           46|\n",
      "|Female|       Group C|          Associates Degree|Free/Reduced|                   None|        54|           58|           61|\n",
      "+------+--------------+---------------------------+------------+-----------------------+----------+-------------+-------------+\n",
      "only showing top 20 rows\n",
      "\n"
     ]
    }
   ],
   "source": [
    "df.show()"
   ]
  },
  {
   "cell_type": "code",
   "execution_count": 185,
   "id": "8a112720-726f-4fdd-a8cc-7cdb40d2c060",
   "metadata": {},
   "outputs": [],
   "source": [
    "# Start checking if inputted scores are valid\n",
    "# Print column if there is a value less than 0 or greater than 100\n",
    "for column, columnType in df.dtypes:\n",
    "    if columnType == 'int':\n",
    "        out_of_range = df.filter((col(column) < 0) | (100 < col(column)))\n",
    "        if out_of_range.count() > 0:\n",
    "            print(\"Column: \" + column)\n",
    "            print(\"Out of range values\")\n",
    "# Result -- There doesn't seem to be any wrong inputs"
   ]
  },
  {
   "cell_type": "code",
   "execution_count": 187,
   "id": "ed746222-4082-4cde-add9-62f9e8dcad48",
   "metadata": {},
   "outputs": [
    {
     "name": "stdout",
     "output_type": "stream",
     "text": [
      "+------+--------------+---------------------------+-----+-----------------------+----------+-------------+-------------+-----+\n",
      "|gender|race/ethnicity|parental level of education|Lunch|test preparation course|math score|reading score|writing score|count|\n",
      "+------+--------------+---------------------------+-----+-----------------------+----------+-------------+-------------+-----+\n",
      "+------+--------------+---------------------------+-----+-----------------------+----------+-------------+-------------+-----+\n",
      "\n"
     ]
    }
   ],
   "source": [
    "# Checking for duplicates\n",
    "# There isn't a value to determine if it's a unique person like student_id\n",
    "# Will check for duplicates by grouping them just in case\n",
    "duplicate_rows = df.groupBy(df.columns).count().filter(\"count > 1\")\n",
    "duplicate_rows.show()\n",
    "\n",
    "# Result - There currently aren't any duplicates, so I don't need to do anything"
   ]
  },
  {
   "cell_type": "code",
   "execution_count": 189,
   "id": "ea1784e4-eab9-407c-997f-5999d5007932",
   "metadata": {},
   "outputs": [
    {
     "name": "stdout",
     "output_type": "stream",
     "text": [
      "+------+--------------+---------------------------+------------+-----------------------+----------+-------------+-------------+\n",
      "|Gender|Race/Ethnicity|Parental_Level_Of_Education|       Lunch|Test_Preparation_Course|Math_Score|Reading_Score|Writing_Score|\n",
      "+------+--------------+---------------------------+------------+-----------------------+----------+-------------+-------------+\n",
      "|Female|       Group B|           Bachelors Degree|    Standard|                   None|        72|           72|           74|\n",
      "|Female|       Group C|               Some College|    Standard|              Completed|        69|           90|           88|\n",
      "|Female|       Group B|             Masters Degree|    Standard|                   None|        90|           95|           93|\n",
      "|  Male|       Group A|          Associates Degree|Free/Reduced|                   None|        47|           57|           44|\n",
      "|  Male|       Group C|               Some College|    Standard|                   None|        76|           78|           75|\n",
      "|Female|       Group B|          Associates Degree|    Standard|                   None|        71|           83|           78|\n",
      "|Female|       Group B|               Some College|    Standard|              Completed|        88|           95|           92|\n",
      "|  Male|       Group B|               Some College|Free/Reduced|                   None|        40|           43|           39|\n",
      "|  Male|       Group D|                High School|Free/Reduced|              Completed|        64|           64|           67|\n",
      "|Female|       Group B|                High School|Free/Reduced|                   None|        38|           60|           50|\n",
      "|  Male|       Group C|          Associates Degree|    Standard|                   None|        58|           54|           52|\n",
      "|  Male|       Group D|          Associates Degree|    Standard|                   None|        40|           52|           43|\n",
      "|Female|       Group B|                High School|    Standard|                   None|        65|           81|           73|\n",
      "|  Male|       Group A|               Some College|    Standard|              Completed|        78|           72|           70|\n",
      "|Female|       Group A|             Masters Degree|    Standard|                   None|        50|           53|           58|\n",
      "|Female|       Group C|           Some High School|    Standard|                   None|        69|           75|           78|\n",
      "|  Male|       Group C|                High School|    Standard|                   None|        88|           89|           86|\n",
      "|Female|       Group B|           Some High School|Free/Reduced|                   None|        18|           32|           28|\n",
      "|  Male|       Group C|             Masters Degree|Free/Reduced|              Completed|        46|           42|           46|\n",
      "|Female|       Group C|          Associates Degree|Free/Reduced|                   None|        54|           58|           61|\n",
      "+------+--------------+---------------------------+------------+-----------------------+----------+-------------+-------------+\n",
      "only showing top 20 rows\n",
      "\n"
     ]
    }
   ],
   "source": [
    "# I've checked all the values, now I will check Columns\n",
    "# Add underscores to columns then capitalize theme\n",
    "for old_col in df.columns:\n",
    "    new_col = old_col.lower().replace(\" \", \"_\")\n",
    "    df = df.withColumnRenamed(old_col, new_col.title())\n",
    "df.show()"
   ]
  },
  {
   "cell_type": "code",
   "execution_count": 191,
   "id": "b83c4200-78c5-450a-b7c2-0c9ca4d06ddb",
   "metadata": {},
   "outputs": [],
   "source": [
    "# I need to rename \"Race/Ethnicity\" to \"Race_Ethnicity\"\n",
    "df = df.withColumnRenamed('Race/Ethnicity', 'Race_Ethnicity')"
   ]
  },
  {
   "cell_type": "code",
   "execution_count": 193,
   "id": "a91beabf-9e70-4242-b44f-2b1027cf5b36",
   "metadata": {},
   "outputs": [
    {
     "name": "stdout",
     "output_type": "stream",
     "text": [
      "+------+--------------+---------------------------+------------+-----------------------+----------+-------------+-------------+\n",
      "|Gender|Race_Ethnicity|Parental_Level_Of_Education|       Lunch|Test_Preparation_Course|Math_Score|Reading_Score|Writing_Score|\n",
      "+------+--------------+---------------------------+------------+-----------------------+----------+-------------+-------------+\n",
      "|Female|       Group B|           Bachelors Degree|    Standard|                   None|        72|           72|           74|\n",
      "|Female|       Group C|               Some College|    Standard|              Completed|        69|           90|           88|\n",
      "|Female|       Group B|             Masters Degree|    Standard|                   None|        90|           95|           93|\n",
      "|  Male|       Group A|          Associates Degree|Free/Reduced|                   None|        47|           57|           44|\n",
      "|  Male|       Group C|               Some College|    Standard|                   None|        76|           78|           75|\n",
      "|Female|       Group B|          Associates Degree|    Standard|                   None|        71|           83|           78|\n",
      "|Female|       Group B|               Some College|    Standard|              Completed|        88|           95|           92|\n",
      "|  Male|       Group B|               Some College|Free/Reduced|                   None|        40|           43|           39|\n",
      "|  Male|       Group D|                High School|Free/Reduced|              Completed|        64|           64|           67|\n",
      "|Female|       Group B|                High School|Free/Reduced|                   None|        38|           60|           50|\n",
      "|  Male|       Group C|          Associates Degree|    Standard|                   None|        58|           54|           52|\n",
      "|  Male|       Group D|          Associates Degree|    Standard|                   None|        40|           52|           43|\n",
      "|Female|       Group B|                High School|    Standard|                   None|        65|           81|           73|\n",
      "|  Male|       Group A|               Some College|    Standard|              Completed|        78|           72|           70|\n",
      "|Female|       Group A|             Masters Degree|    Standard|                   None|        50|           53|           58|\n",
      "|Female|       Group C|           Some High School|    Standard|                   None|        69|           75|           78|\n",
      "|  Male|       Group C|                High School|    Standard|                   None|        88|           89|           86|\n",
      "|Female|       Group B|           Some High School|Free/Reduced|                   None|        18|           32|           28|\n",
      "|  Male|       Group C|             Masters Degree|Free/Reduced|              Completed|        46|           42|           46|\n",
      "|Female|       Group C|          Associates Degree|Free/Reduced|                   None|        54|           58|           61|\n",
      "+------+--------------+---------------------------+------------+-----------------------+----------+-------------+-------------+\n",
      "only showing top 20 rows\n",
      "\n"
     ]
    }
   ],
   "source": [
    "df.show()"
   ]
  },
  {
   "cell_type": "code",
   "execution_count": 197,
   "id": "8442608a-3c5d-4ad4-b363-835d3532098c",
   "metadata": {},
   "outputs": [],
   "source": [
    "# Create Table After Cleanup\n",
    "df.createOrReplaceTempView(\"Student_Performance\")"
   ]
  },
  {
   "cell_type": "code",
   "execution_count": 209,
   "id": "f1d9c571-e3c2-44e8-a2fc-90e643beaa8e",
   "metadata": {},
   "outputs": [],
   "source": [
    "# Make Jupyter create a directory, or it won't have the privilege to upload files to it\n",
    "output_dir = 'results'\n",
    "if not os.path.exists(output_dir):\n",
    "    os.makedirs(output_dir)"
   ]
  },
  {
   "cell_type": "code",
   "execution_count": 205,
   "id": "5fa9e261-cfb7-4286-b977-893a656cad51",
   "metadata": {},
   "outputs": [],
   "source": [
    "# Export the clean file\n",
    "pandas_df = df.toPandas()\n",
    "path = os.path.join(output_dir, 'Student_Performance.parquet')\n",
    "pandas_df.to_parquet(path, engine='pyarrow') \n",
    "path = os.path.join(output_dir, 'Student_Performance.csv')\n",
    "pandas_df.to_csv(path, index=False)\n",
    "path = os.path.join(output_dir, 'Student_Performance.json')\n",
    "pandas_df.to_json(path, orient='records', lines=True)"
   ]
  },
  {
   "cell_type": "code",
   "execution_count": null,
   "id": "b99870fc-b470-426b-b17d-101cb27cc739",
   "metadata": {},
   "outputs": [],
   "source": []
  }
 ],
 "metadata": {
  "kernelspec": {
   "display_name": "Python 3.13 (PySpark)",
   "language": "python",
   "name": "pyspark313"
  },
  "language_info": {
   "codemirror_mode": {
    "name": "ipython",
    "version": 3
   },
   "file_extension": ".py",
   "mimetype": "text/x-python",
   "name": "python",
   "nbconvert_exporter": "python",
   "pygments_lexer": "ipython3",
   "version": "3.13.1"
  }
 },
 "nbformat": 4,
 "nbformat_minor": 5
}

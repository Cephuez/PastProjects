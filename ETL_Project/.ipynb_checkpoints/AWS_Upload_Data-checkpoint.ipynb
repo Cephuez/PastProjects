{
 "cells": [
  {
   "cell_type": "code",
   "execution_count": 2,
   "id": "4a699a71-c533-4660-9251-9e1cc6384246",
   "metadata": {},
   "outputs": [],
   "source": [
    "import boto3\n",
    "import os"
   ]
  },
  {
   "cell_type": "code",
   "execution_count": 4,
   "id": "859b5718-ba8b-41a3-bff5-fc13196f0b09",
   "metadata": {},
   "outputs": [],
   "source": [
    "r_name = 'us-west-1'\n",
    "#print(region_name)"
   ]
  },
  {
   "cell_type": "code",
   "execution_count": 6,
   "id": "fec85b62-8478-43f2-80e8-23bb0b6d8694",
   "metadata": {},
   "outputs": [],
   "source": [
    "s3 = boto3.client('s3', region_name=r_name)\n",
    "# Specify where it will be uploaded to\n",
    "bucket_name = 'project-cloud-saul2-00000002-data-cleaning'\n",
    "\n",
    "#file_name = 'results\\\\Top_Five_Total_Score.csv'\n",
    "#object_name = 'Top_Five_Total_Score.csv'"
   ]
  },
  {
   "cell_type": "code",
   "execution_count": 16,
   "id": "cce95845-af28-46f0-bdde-26eaddb72534",
   "metadata": {},
   "outputs": [],
   "source": [
    "# Specify where the files will be uploaded to\n",
    "folder_name = 'Video_Game_Sales_Result/'"
   ]
  },
  {
   "cell_type": "code",
   "execution_count": 14,
   "id": "68d524bd-16e1-48c1-8d49-cdc0a09aa161",
   "metadata": {},
   "outputs": [],
   "source": [
    "# Specify the directory where these files are located at\n",
    "directory = 'C:/Users/saul2/OneDrive/Desktop/PastProjects/ETL_Project/VG_Sales/clean_data'"
   ]
  },
  {
   "cell_type": "code",
   "execution_count": 39,
   "id": "fb87bb6e-312f-43f6-8ffa-8f1f369e330e",
   "metadata": {},
   "outputs": [
    {
     "data": {
      "text/plain": [
       "'\\ntry:\\n    s3.upload_file(file_name, bucket_name, object_name)\\n    print(f\"File \\'{file_name}\\' has been uploaded to \\'{bucket_name}/{object_name}\\'.\")\\nexcept Exception as e:\\n    print(\"Error occurred while uploading:\", e)\\n'"
      ]
     },
     "execution_count": 39,
     "metadata": {},
     "output_type": "execute_result"
    }
   ],
   "source": [
    "# Upload 1 file at a time\n",
    "'''\n",
    "file_name = 'results\\\\Top_Five_Total_Score.csv'\n",
    "object_name = 'Top_Five_Total_Score.csv'\n",
    "\n",
    "try:\n",
    "    s3.upload_file(file_name, bucket_name, object_name)\n",
    "    print(f\"File '{file_name}' has been uploaded to '{bucket_name}/{object_name}'.\")\n",
    "except Exception as e:\n",
    "    print(\"Error occurred while uploading:\", e)'''\n"
   ]
  },
  {
   "cell_type": "code",
   "execution_count": 18,
   "id": "6911c00f-0511-4fc0-80fe-9b0883a80433",
   "metadata": {},
   "outputs": [
    {
     "name": "stdout",
     "output_type": "stream",
     "text": [
      "File: C:/Users/saul2/OneDrive/Desktop/PastProjects/ETL_Project/VG_Sales/clean_data\\clean_vgsales.csv uploaded\n",
      "File: C:/Users/saul2/OneDrive/Desktop/PastProjects/ETL_Project/VG_Sales/clean_data\\clean_vgsales.parquet uploaded\n"
     ]
    }
   ],
   "source": [
    "# Loop through the directory and upload all of my dataframes. (csv, json, parquet)\n",
    "for filename in os.listdir(directory):\n",
    "    local_file_path = os.path.join(directory,filename)\n",
    "    #print(local_file_path)\n",
    "\n",
    "    s3_file_path = folder_name + filename\n",
    "    try:\n",
    "        # Upload  file to S3\n",
    "        s3.upload_file(local_file_path, bucket_name, s3_file_path)\n",
    "        print(\"File: \"+ local_file_path+ \" uploaded\")\n",
    "        #print(\"xd\")\n",
    "    except Exception as e:\n",
    "        print(\"Error: \" + local_file_path)\n",
    "    "
   ]
  },
  {
   "cell_type": "code",
   "execution_count": null,
   "id": "b1f25638-e573-44c7-87e6-900267910607",
   "metadata": {},
   "outputs": [],
   "source": []
  }
 ],
 "metadata": {
  "kernelspec": {
   "display_name": "Python 3.13 (with Kaggle)",
   "language": "python",
   "name": "py313"
  },
  "language_info": {
   "codemirror_mode": {
    "name": "ipython",
    "version": 3
   },
   "file_extension": ".py",
   "mimetype": "text/x-python",
   "name": "python",
   "nbconvert_exporter": "python",
   "pygments_lexer": "ipython3",
   "version": "3.13.1"
  }
 },
 "nbformat": 4,
 "nbformat_minor": 5
}

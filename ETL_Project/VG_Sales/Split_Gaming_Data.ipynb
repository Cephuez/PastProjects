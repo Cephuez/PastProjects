{
 "cells": [
  {
   "cell_type": "code",
   "execution_count": null,
   "id": "94e7b830-d397-456e-a78e-c9bef5ddf956",
   "metadata": {},
   "outputs": [],
   "source": [
    "# Split the file or add more info once the data has been completey clean"
   ]
  }
 ],
 "metadata": {
  "kernelspec": {
   "display_name": "Python 3.13 (with Kaggle)",
   "language": "python",
   "name": "py313"
  },
  "language_info": {
   "codemirror_mode": {
    "name": "ipython",
    "version": 3
   },
   "file_extension": ".py",
   "mimetype": "text/x-python",
   "name": "python",
   "nbconvert_exporter": "python",
   "pygments_lexer": "ipython3",
   "version": "3.13.1"
  }
 },
 "nbformat": 4,
 "nbformat_minor": 5
}

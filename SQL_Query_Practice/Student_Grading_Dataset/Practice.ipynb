{
 "cells": [
  {
   "cell_type": "code",
   "execution_count": 1,
   "id": "81ab4bb7-8ff3-49c0-8783-e3683cfa205d",
   "metadata": {},
   "outputs": [],
   "source": [
    "import os\n",
    "%load_ext autoreload\n",
    "%autoreload 2\n",
    "import pandas as pd\n",
    "import pyspark\n",
    "import pyarrow\n",
    "\n",
    "from pyspark.sql import SparkSession\n",
    "from pyspark.sql.functions import *"
   ]
  },
  {
   "cell_type": "code",
   "execution_count": 2,
   "id": "a73cb19f-c5ec-440e-91b4-da11d92c2565",
   "metadata": {},
   "outputs": [],
   "source": [
    "os.environ['SPARK_HOME'] = 'C:/Users/saul2/Spark_DF/spark-3.5.5-bin-hadoop3'\n",
    "os.environ['HADOOP_HOME'] = 'C:/Users/saul2/Spark_DF/spark-3.5.5-bin-hadoop3'\n",
    "os.environ['JAVA_HOME'] = 'C:/Program Files/Java/jdk1.8.0_202'"
   ]
  },
  {
   "cell_type": "code",
   "execution_count": 5,
   "id": "879f2598-b179-4413-b906-964b2a3e07d4",
   "metadata": {},
   "outputs": [],
   "source": [
    "#spark = SparkSession.builder.appName(\"Practice\").\\\n",
    "#    .config(\"spark.hadoop.fs.file.impl\", \"org.apache.hadoop.fs.LocalFileSystem\") \\\n",
    "#    .config(\"spark.hadoop.hadoop.native.io\", \"false\").getOrCreate()\n",
    "spark = SparkSession.builder.appName(\"Practice\").getOrCreate()"
   ]
  },
  {
   "cell_type": "code",
   "execution_count": 6,
   "id": "4e3ee73f-911d-4ea3-8606-ee8e1c4358af",
   "metadata": {},
   "outputs": [],
   "source": [
    "csv_file = 'Students_Grading_Dataset.csv'\n",
    "df = spark.read.option(\"header\", True).csv(csv_file)\n",
    "df.createOrReplaceTempView(\"Students\")"
   ]
  },
  {
   "cell_type": "code",
   "execution_count": 21,
   "id": "eba66088-11b6-4f48-920b-439b38b61874",
   "metadata": {},
   "outputs": [
    {
     "name": "stdout",
     "output_type": "stream",
     "text": [
      "+--------------------+---------+-------+\n",
      "|            col_name|data_type|comment|\n",
      "+--------------------+---------+-------+\n",
      "|          Student_ID|   string|   NULL|\n",
      "|          First_Name|   string|   NULL|\n",
      "|           Last_Name|   string|   NULL|\n",
      "|               Email|   string|   NULL|\n",
      "|              Gender|   string|   NULL|\n",
      "|                 Age|   string|   NULL|\n",
      "|          Department|   string|   NULL|\n",
      "|      Attendance (%)|   string|   NULL|\n",
      "|       Midterm_Score|   string|   NULL|\n",
      "|         Final_Score|   string|   NULL|\n",
      "|     Assignments_Avg|   string|   NULL|\n",
      "|         Quizzes_Avg|   string|   NULL|\n",
      "| Participation_Score|   string|   NULL|\n",
      "|      Projects_Score|   string|   NULL|\n",
      "|         Total_Score|   string|   NULL|\n",
      "|               Grade|   string|   NULL|\n",
      "|Study_Hours_per_Week|   string|   NULL|\n",
      "|Extracurricular_A...|   string|   NULL|\n",
      "|Internet_Access_a...|   string|   NULL|\n",
      "|Parent_Education_...|   string|   NULL|\n",
      "+--------------------+---------+-------+\n",
      "only showing top 20 rows\n",
      "\n"
     ]
    }
   ],
   "source": [
    "# Show Column Names\n",
    "query = 'DESC STUDENTS'\n",
    "result = spark.sql(query)\n",
    "result.show()"
   ]
  },
  {
   "cell_type": "code",
   "execution_count": 8,
   "id": "6a85ad15-efa1-4a8e-8785-c15ad287213a",
   "metadata": {},
   "outputs": [],
   "source": [
    "# Students Older than 21\n",
    "query = \"SELECT * FROM STUDENTS WHERE AGE > 21\"\n",
    "result = spark.sql(query)\n",
    "#result.show()"
   ]
  },
  {
   "cell_type": "code",
   "execution_count": 23,
   "id": "434ff6e5-2504-4ae2-8b4f-b31d7b434680",
   "metadata": {},
   "outputs": [],
   "source": [
    "# Students with a total_score higher than their department_avg\n",
    "query = '''\n",
    "    WITH DEPT_AVG AS (\n",
    "        SELECT DEPARTMENT, ROUND(AVG(TOTAL_SCORE),2) AVG_SCORE\n",
    "        FROM STUDENTS \n",
    "        GROUP BY DEPARTMENT\n",
    "    )\n",
    "    SELECT STUDENTS.DEPARTMENT, STUDENT_ID, FIRST_NAME, LAST_NAME, TOTAL_SCORE, DEPT_AVG.AVG_SCORE\n",
    "    FROM STUDENTS, DEPT_AVG\n",
    "    WHERE STUDENTS.DEPARTMENT = DEPT_AVG.DEPARTMENT\n",
    "        AND STUDENTS.TOTAL_SCORE > DEPT_AVG.AVG_SCORE\n",
    "    ORDER BY STUDENTS.DEPARTMENT, STUDENT_ID\n",
    "    '''\n",
    "result = spark.sql(query)\n",
    "#result.show()"
   ]
  },
  {
   "cell_type": "code",
   "execution_count": 47,
   "id": "d65b5318-141d-4ccb-a756-e1284fc9dbc4",
   "metadata": {},
   "outputs": [
    {
     "name": "stdout",
     "output_type": "stream",
     "text": [
      "+----------+----------+---------+-----------+\n",
      "|STUDENT_ID|FIRST_NAME|LAST_NAME|FINAL_SCORE|\n",
      "+----------+----------+---------+-----------+\n",
      "|     S3688|     Ahmed|    Brown|      99.98|\n",
      "|     S5152|      John|    Smith|      99.98|\n",
      "|     S1957|       Ali| Williams|      99.97|\n",
      "|     S4304|      Sara|    Davis|      99.97|\n",
      "|     S1977|      Liam|    Brown|      99.96|\n",
      "|     S4522|     Maria| Williams|      99.96|\n",
      "+----------+----------+---------+-----------+\n",
      "\n"
     ]
    }
   ],
   "source": [
    "# Find the top 5 students with the highest final exam scores.\n",
    "query = '''\n",
    "        WITH TOP_5 AS (\n",
    "            SELECT STUDENT_ID, FIRST_NAME, LAST_NAME, FINAL_SCORE, RANK()OVER(ORDER BY FINAL_SCORE DESC) RANK\n",
    "            FROM STUDENTS\n",
    "            ORDER BY FINAL_SCORE DESC\n",
    "        )\n",
    "        SELECT STUDENT_ID, FIRST_NAME, LAST_NAME, FINAL_SCORE\n",
    "        FROM TOP_5\n",
    "        WHERE RANK <= 5\n",
    "    '''\n",
    "result = spark.sql(query)\n",
    "result.show()"
   ]
  },
  {
   "cell_type": "code",
   "execution_count": 19,
   "id": "75e778f6-213b-484e-b6e4-e3c686776791",
   "metadata": {},
   "outputs": [
    {
     "name": "stdout",
     "output_type": "stream",
     "text": [
      "+--------+\n",
      "|count(1)|\n",
      "+--------+\n",
      "|    5000|\n",
      "+--------+\n",
      "\n"
     ]
    }
   ],
   "source": [
    "query = '''\n",
    "    SELECT COUNT(*)\n",
    "    FROM STUDENTS \n",
    "    '''\n",
    "result = spark.sql(query)\n",
    "result.show()"
   ]
  },
  {
   "cell_type": "code",
   "execution_count": null,
   "id": "57cc0c98-c7d1-4c68-8aab-e15fcefc11a5",
   "metadata": {},
   "outputs": [],
   "source": [
    "# Make a directory for my files\n",
    "output_dir = 'results'\n",
    "if not os.path.exists(output_dir):\n",
    "    os.makedirs(output_dir)"
   ]
  },
  {
   "cell_type": "code",
   "execution_count": null,
   "id": "3223f78a-20a9-4caf-b8df-82f87aa8c782",
   "metadata": {},
   "outputs": [],
   "source": [
    "# Conver my result to a Pandas Dataframe. PySpark is not working well to conver it into a parquet/csv file.\n",
    "#pandas_df = result.toPandas()\n",
    "#path = os.path.join(output_dir, 'student_results.parquet')\n",
    "#pandas_df.to_parquet(path, engine='pyarrow') \n",
    "#path = os.path.join(output_dir, 'student_results.csv')\n",
    "#pandas_df.to_csv(path, index=False)"
   ]
  }
 ],
 "metadata": {
  "kernelspec": {
   "display_name": "Python 3.13 (with Kaggle)",
   "language": "python",
   "name": "py313"
  },
  "language_info": {
   "codemirror_mode": {
    "name": "ipython",
    "version": 3
   },
   "file_extension": ".py",
   "mimetype": "text/x-python",
   "name": "python",
   "nbconvert_exporter": "python",
   "pygments_lexer": "ipython3",
   "version": "3.13.1"
  }
 },
 "nbformat": 4,
 "nbformat_minor": 5
}

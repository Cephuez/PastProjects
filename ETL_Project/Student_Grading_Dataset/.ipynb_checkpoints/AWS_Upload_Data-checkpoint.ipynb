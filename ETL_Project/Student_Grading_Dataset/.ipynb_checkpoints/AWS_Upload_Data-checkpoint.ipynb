{
 "cells": [
  {
   "cell_type": "code",
   "execution_count": 1,
   "id": "4a699a71-c533-4660-9251-9e1cc6384246",
   "metadata": {},
   "outputs": [],
   "source": [
    "import boto3"
   ]
  },
  {
   "cell_type": "code",
   "execution_count": 15,
   "id": "fec85b62-8478-43f2-80e8-23bb0b6d8694",
   "metadata": {},
   "outputs": [],
   "source": [
    "s3 = boto3.client('s3', region_name='us-west-1')\n",
    "bucket_name = 'project-cloud-saul2-20250428'\n",
    "file_name = '\\\\results\\\\Top_Five_Total_Score.csv'\n",
    "object_name = 'Top_Five_Total_Score.csv'"
   ]
  },
  {
   "cell_type": "code",
   "execution_count": null,
   "id": "fb87bb6e-312f-43f6-8ffa-8f1f369e330e",
   "metadata": {},
   "outputs": [],
   "source": [
    "try:\n",
    "    s3.upload_file(file_name, bucket_name, object_name)\n",
    "    pri"
   ]
  }
 ],
 "metadata": {
  "kernelspec": {
   "display_name": "Python 3.13 (with Kaggle)",
   "language": "python",
   "name": "py313"
  },
  "language_info": {
   "codemirror_mode": {
    "name": "ipython",
    "version": 3
   },
   "file_extension": ".py",
   "mimetype": "text/x-python",
   "name": "python",
   "nbconvert_exporter": "python",
   "pygments_lexer": "ipython3",
   "version": "3.13.1"
  }
 },
 "nbformat": 4,
 "nbformat_minor": 5
}
